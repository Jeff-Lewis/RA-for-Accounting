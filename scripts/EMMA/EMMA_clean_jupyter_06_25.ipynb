{
 "cells": [
  {
   "cell_type": "code",
   "execution_count": 7,
   "metadata": {
    "colab": {
     "base_uri": "https://localhost:8080/"
    },
    "collapsed": true,
    "id": "xDSkjUHYNRxA",
    "outputId": "fda002ca-d4cc-492f-d223-414294b30113"
   },
   "outputs": [
    {
     "name": "stdout",
     "output_type": "stream",
     "text": [
      "Requirement already satisfied: selenium in /Users/mrplugy/anaconda3/lib/python3.11/site-packages (4.19.0)\n",
      "Requirement already satisfied: urllib3<3,>=1.26 in /Users/mrplugy/anaconda3/lib/python3.11/site-packages (from urllib3[socks]<3,>=1.26->selenium) (1.26.16)\n",
      "Requirement already satisfied: trio~=0.17 in /Users/mrplugy/anaconda3/lib/python3.11/site-packages (from selenium) (0.25.0)\n",
      "Requirement already satisfied: trio-websocket~=0.9 in /Users/mrplugy/anaconda3/lib/python3.11/site-packages (from selenium) (0.11.1)\n",
      "Requirement already satisfied: certifi>=2021.10.8 in /Users/mrplugy/anaconda3/lib/python3.11/site-packages (from selenium) (2024.2.2)\n",
      "Requirement already satisfied: typing_extensions>=4.9.0 in /Users/mrplugy/anaconda3/lib/python3.11/site-packages (from selenium) (4.10.0)\n",
      "Requirement already satisfied: attrs>=23.2.0 in /Users/mrplugy/anaconda3/lib/python3.11/site-packages (from trio~=0.17->selenium) (23.2.0)\n",
      "Requirement already satisfied: sortedcontainers in /Users/mrplugy/anaconda3/lib/python3.11/site-packages (from trio~=0.17->selenium) (2.4.0)\n",
      "Requirement already satisfied: idna in /Users/mrplugy/anaconda3/lib/python3.11/site-packages (from trio~=0.17->selenium) (3.4)\n",
      "Requirement already satisfied: outcome in /Users/mrplugy/anaconda3/lib/python3.11/site-packages (from trio~=0.17->selenium) (1.3.0.post0)\n",
      "Requirement already satisfied: sniffio>=1.3.0 in /Users/mrplugy/anaconda3/lib/python3.11/site-packages (from trio~=0.17->selenium) (1.3.1)\n",
      "Requirement already satisfied: wsproto>=0.14 in /Users/mrplugy/anaconda3/lib/python3.11/site-packages (from trio-websocket~=0.9->selenium) (1.2.0)\n",
      "Requirement already satisfied: PySocks!=1.5.7,<2.0,>=1.5.6 in /Users/mrplugy/anaconda3/lib/python3.11/site-packages (from urllib3[socks]<3,>=1.26->selenium) (1.7.1)\n",
      "Requirement already satisfied: h11<1,>=0.9.0 in /Users/mrplugy/anaconda3/lib/python3.11/site-packages (from wsproto>=0.14->trio-websocket~=0.9->selenium) (0.14.0)\n",
      "Requirement already satisfied: webdriver-manager in /Users/mrplugy/anaconda3/lib/python3.11/site-packages (4.0.1)\n",
      "Requirement already satisfied: requests in /Users/mrplugy/anaconda3/lib/python3.11/site-packages (from webdriver-manager) (2.31.0)\n",
      "Requirement already satisfied: python-dotenv in /Users/mrplugy/anaconda3/lib/python3.11/site-packages (from webdriver-manager) (0.21.0)\n",
      "Requirement already satisfied: packaging in /Users/mrplugy/anaconda3/lib/python3.11/site-packages (from webdriver-manager) (23.1)\n",
      "Requirement already satisfied: charset-normalizer<4,>=2 in /Users/mrplugy/anaconda3/lib/python3.11/site-packages (from requests->webdriver-manager) (2.0.4)\n",
      "Requirement already satisfied: idna<4,>=2.5 in /Users/mrplugy/anaconda3/lib/python3.11/site-packages (from requests->webdriver-manager) (3.4)\n",
      "Requirement already satisfied: urllib3<3,>=1.21.1 in /Users/mrplugy/anaconda3/lib/python3.11/site-packages (from requests->webdriver-manager) (1.26.16)\n",
      "Requirement already satisfied: certifi>=2017.4.17 in /Users/mrplugy/anaconda3/lib/python3.11/site-packages (from requests->webdriver-manager) (2024.2.2)\n",
      "Requirement already satisfied: tqdm in /Users/mrplugy/anaconda3/lib/python3.11/site-packages (4.65.0)\n",
      "^C\n",
      "\u001b[31mERROR: Operation cancelled by user\u001b[0m\u001b[31m\n",
      "\u001b[0mRequirement already satisfied: pytesseract in /Users/mrplugy/anaconda3/lib/python3.11/site-packages (0.3.10)\n",
      "Requirement already satisfied: packaging>=21.3 in /Users/mrplugy/anaconda3/lib/python3.11/site-packages (from pytesseract) (23.1)\n",
      "Requirement already satisfied: Pillow>=8.0.0 in /Users/mrplugy/anaconda3/lib/python3.11/site-packages (from pytesseract) (9.4.0)\n",
      "zsh:1: command not found: apt-get\n",
      "zsh:1: command not found: apt-get\n",
      "zsh:1: command not found: wget\n",
      "zsh:1: command not found: dpkg\n",
      "zsh:1: command not found: apt-get\n",
      "zsh:1: command not found: google-chrome\n"
     ]
    }
   ],
   "source": [
    "# Install Selenium and WebDriver Manager\n",
    "!pip install selenium\n",
    "!pip install webdriver-manager\n",
    "!pip install tqdm\n",
    "!pip install pytesseract\n",
    "\n",
    "# Install Chrome\n",
    "!apt-get update\n",
    "!apt-get install -y wget unzip\n",
    "!wget -q https://dl.google.com/linux/direct/google-chrome-stable_current_amd64.deb\n",
    "!dpkg -i google-chrome-stable_current_amd64.deb\n",
    "!apt-get -f install -y\n",
    "\n",
    "# Check the versions of Chrome\n",
    "!google-chrome --version\n"
   ]
  },
  {
   "cell_type": "code",
   "execution_count": null,
   "metadata": {
    "collapsed": true
   },
   "outputs": [
    {
     "name": "stdout",
     "output_type": "stream",
     "text": [
      "Requirement already satisfied: selenium in /Users/mrplugy/anaconda3/lib/python3.11/site-packages (4.19.0)\n",
      "Requirement already satisfied: urllib3<3,>=1.26 in /Users/mrplugy/anaconda3/lib/python3.11/site-packages (from urllib3[socks]<3,>=1.26->selenium) (1.26.16)\n",
      "Requirement already satisfied: trio~=0.17 in /Users/mrplugy/anaconda3/lib/python3.11/site-packages (from selenium) (0.25.0)\n",
      "Requirement already satisfied: trio-websocket~=0.9 in /Users/mrplugy/anaconda3/lib/python3.11/site-packages (from selenium) (0.11.1)\n",
      "Requirement already satisfied: certifi>=2021.10.8 in /Users/mrplugy/anaconda3/lib/python3.11/site-packages (from selenium) (2024.2.2)\n",
      "Requirement already satisfied: typing_extensions>=4.9.0 in /Users/mrplugy/anaconda3/lib/python3.11/site-packages (from selenium) (4.10.0)\n",
      "Requirement already satisfied: attrs>=23.2.0 in /Users/mrplugy/anaconda3/lib/python3.11/site-packages (from trio~=0.17->selenium) (23.2.0)\n",
      "Requirement already satisfied: sortedcontainers in /Users/mrplugy/anaconda3/lib/python3.11/site-packages (from trio~=0.17->selenium) (2.4.0)\n",
      "Requirement already satisfied: idna in /Users/mrplugy/anaconda3/lib/python3.11/site-packages (from trio~=0.17->selenium) (3.4)\n",
      "Requirement already satisfied: outcome in /Users/mrplugy/anaconda3/lib/python3.11/site-packages (from trio~=0.17->selenium) (1.3.0.post0)\n",
      "Requirement already satisfied: sniffio>=1.3.0 in /Users/mrplugy/anaconda3/lib/python3.11/site-packages (from trio~=0.17->selenium) (1.3.1)\n",
      "Requirement already satisfied: wsproto>=0.14 in /Users/mrplugy/anaconda3/lib/python3.11/site-packages (from trio-websocket~=0.9->selenium) (1.2.0)\n",
      "Requirement already satisfied: PySocks!=1.5.7,<2.0,>=1.5.6 in /Users/mrplugy/anaconda3/lib/python3.11/site-packages (from urllib3[socks]<3,>=1.26->selenium) (1.7.1)\n",
      "Requirement already satisfied: h11<1,>=0.9.0 in /Users/mrplugy/anaconda3/lib/python3.11/site-packages (from wsproto>=0.14->trio-websocket~=0.9->selenium) (0.14.0)\n",
      "Requirement already satisfied: webdriver-manager in /Users/mrplugy/anaconda3/lib/python3.11/site-packages (4.0.1)\n",
      "Requirement already satisfied: requests in /Users/mrplugy/anaconda3/lib/python3.11/site-packages (from webdriver-manager) (2.31.0)\n",
      "Requirement already satisfied: python-dotenv in /Users/mrplugy/anaconda3/lib/python3.11/site-packages (from webdriver-manager) (0.21.0)\n",
      "Requirement already satisfied: packaging in /Users/mrplugy/anaconda3/lib/python3.11/site-packages (from webdriver-manager) (23.1)\n",
      "Requirement already satisfied: charset-normalizer<4,>=2 in /Users/mrplugy/anaconda3/lib/python3.11/site-packages (from requests->webdriver-manager) (2.0.4)\n",
      "Requirement already satisfied: idna<4,>=2.5 in /Users/mrplugy/anaconda3/lib/python3.11/site-packages (from requests->webdriver-manager) (3.4)\n",
      "Requirement already satisfied: urllib3<3,>=1.21.1 in /Users/mrplugy/anaconda3/lib/python3.11/site-packages (from requests->webdriver-manager) (1.26.16)\n",
      "Requirement already satisfied: certifi>=2017.4.17 in /Users/mrplugy/anaconda3/lib/python3.11/site-packages (from requests->webdriver-manager) (2024.2.2)\n",
      "Requirement already satisfied: tqdm in /Users/mrplugy/anaconda3/lib/python3.11/site-packages (4.65.0)\n",
      "/opt/homebrew/bin/brew\n",
      "\u001b[34m==>\u001b[0m \u001b[1mAuto-updating Homebrew...\u001b[0m\n",
      "Adjust how often this is run with HOMEBREW_AUTO_UPDATE_SECS or disable with\n",
      "HOMEBREW_NO_AUTO_UPDATE. Hide these hints with HOMEBREW_NO_ENV_HINTS (see `man brew`).\n",
      "\u001b[34m==>\u001b[0m \u001b[1mDownloading https://dl.google.com/chrome/mac/universal/stable/GGRO/googlechr\u001b[0m\n",
      "######################################################################### 100.0%\n",
      "\u001b[33mWarning:\u001b[0m No checksum defined for cask 'google-chrome', skipping verification.\n",
      "\u001b[32m==>\u001b[0m \u001b[1mInstalling Cask \u001b[32mgoogle-chrome\u001b[39m\u001b[0m\n",
      "\u001b[34m==>\u001b[0m \u001b[1mPurging files for version 125.0.6422.113 of Cask google-chrome\u001b[0m\n",
      "\u001b[31mError:\u001b[0m It seems there is already an App at '/Applications/Google Chrome.app'.\n",
      "Google Chrome 125.0.6422.78 \n"
     ]
    }
   ],
   "source": [
    "# MacOS Version\n",
    "# Install Selenium and WebDriver Manager\n",
    "!pip install selenium\n",
    "!pip install webdriver-manager\n",
    "!pip install tqdm\n",
    "\n",
    "# Install Homebrew if not installed\n",
    "!which brew || /bin/bash -c \"$(curl -fsSL https://raw.githubusercontent.com/Homebrew/install/HEAD/install.sh)\"\n",
    "\n",
    "# Install Chrome using Homebrew\n",
    "!brew install --cask google-chrome\n",
    "\n",
    "# Check the version of Chrome\n",
    "!\"/Applications/Google Chrome.app/Contents/MacOS/Google Chrome\" --version\n"
   ]
  },
  {
   "cell_type": "code",
   "execution_count": 13,
   "metadata": {
    "id": "kjOPYBAQQ429"
   },
   "outputs": [],
   "source": [
    "from selenium import webdriver\n",
    "from selenium.webdriver.common.by import By\n",
    "from selenium.webdriver.chrome.service import Service\n",
    "from selenium.webdriver.support.ui import WebDriverWait, Select\n",
    "from selenium.webdriver.support import expected_conditions as EC\n",
    "from selenium.webdriver.common.action_chains import ActionChains\n",
    "from selenium.webdriver.common.keys import Keys\n",
    "from webdriver_manager.chrome import ChromeDriverManager\n",
    "from datetime import datetime, timedelta\n",
    "from bs4 import BeautifulSoup\n",
    "from time import sleep\n",
    "import pandas as pd\n",
    "import requests\n",
    "from tqdm import tqdm\n",
    "import random\n",
    "import os\n",
    "\n",
    "\n"
   ]
  },
  {
   "cell_type": "code",
   "execution_count": 14,
   "metadata": {},
   "outputs": [],
   "source": [
    "# Lib for image recognition\n",
    "import pytesseract\n",
    "from PIL import Image\n",
    "from io import BytesIO\n",
    "\n",
    "# Lib for parallel processing\n",
    "from concurrent.futures import ThreadPoolExecutor, as_completed\n",
    "    "
   ]
  },
  {
   "cell_type": "code",
   "execution_count": 3,
   "metadata": {
    "id": "JawMa235Q3v3"
   },
   "outputs": [],
   "source": [
    "# define driver\n",
    "def setup_driver():\n",
    "    chrome_options = webdriver.ChromeOptions()\n",
    "    # options.add_argument('--headless')\n",
    "    # options.add_argument('--disable-gpu')\n",
    "    # options.add_argument('--no-sandbox')\n",
    "    chrome_options.add_argument('--headless')\n",
    "    chrome_options.add_argument('--no-sandbox')\n",
    "    chrome_options.add_argument('--disable-dev-shm-usage')\n",
    "    chrome_options.add_argument('--disable-gpu')\n",
    "    chrome_options.add_argument('--window-size=1920x1080')\n",
    "    chrome_options.add_argument(\"--disable-blink-features=AutomationControlled\")\n",
    "    chrome_options.add_experimental_option(\"excludeSwitches\", [\"enable-automation\"])\n",
    "    chrome_options.add_experimental_option('useAutomationExtension', False)\n",
    "    chrome_options.add_argument(\"user-agent=Mozilla/5.0 (Windows NT 10.0; Win64; x64) AppleWebKit/537.36 (KHTML, like Gecko) Chrome/58.0.3029.110 Safari/537.3\")\n",
    "    chrome_options.add_argument(\"accept=text/html,application/xhtml+xml,application/xml;q=0.9,image/webp,image/apng,*/*;q=0.8\")\n",
    "    chrome_options.add_argument(\"accept-language=en-US,en;q=0.9\")\n",
    "    chrome_options.add_argument(\"accept-encoding=gzip, deflate, br\")\n",
    "    chrome_options.add_argument(\"upgrade-insecure-requests=1\")\n",
    "    chrome_options.add_argument(\"cache-control=no-cache\")\n",
    "    # driver = webdriver.Chrome(ChromeDriverManager().install(), options=chrome_options)\n",
    "    driver = webdriver.Chrome(options=chrome_options) # if error, use this version\n",
    "    return driver\n",
    "\n"
   ]
  },
  {
   "cell_type": "code",
   "execution_count": 4,
   "metadata": {
    "id": "_mc4mQ7fREL6"
   },
   "outputs": [],
   "source": [
    "# Function to perform random sleep to mimic human behavior\n",
    "def random_sleep(min_seconds, max_seconds):\n",
    "    sleep(random.uniform(min_seconds, max_seconds))\n",
    "\n",
    "def debug_page(filename_prefix, filings='All'):\n",
    "    directory = f\"debug_dir/{filings.replace('/', '_')}\"\n",
    "    if not os.path.exists(directory):\n",
    "        os.makedirs(directory)\n",
    "    # page_source = driver.page_source\n",
    "    # with open(f\"{directory}/{filename_prefix}_page_source.html\", \"w\", encoding=\"utf-8\") as file:\n",
    "    #     file.write(page_source)\n",
    "    driver.save_screenshot(f\"{directory}/{filename_prefix}_screenshot.png\")\n",
    "    print(f\"Debug info saved: {filename_prefix}_page_source.html and {filename_prefix}_screenshot.png\")\n",
    "\n",
    "# Function to handle the Terms of Use page\n",
    "def handle_terms_of_use():\n",
    "    try:\n",
    "        driver.execute_script(\"window.scrollTo(0, document.body.scrollHeight);\")\n",
    "        accept_button = WebDriverWait(driver, 5).until(\n",
    "            EC.element_to_be_clickable((By.ID, 'ctl00_mainContentArea_disclaimerContent_yesButton'))\n",
    "        )\n",
    "        # debug_page(\"terms_of_use\")\n",
    "        accept_button.click()\n",
    "        random_sleep(1, 2)  # Wait a bit to ensure the page loads completely\n",
    "        # print(\"Accepted Terms of Use\")\n",
    "        return True\n",
    "    except Exception as e:\n",
    "        print(f\"No Terms of Use page found or unable to click accept button: \")\n",
    "        # debug_page(\"terms_of_use_error\")\n",
    "    return False"
   ]
  },
  {
   "cell_type": "markdown",
   "metadata": {
    "id": "4UWKcKLx_gQf"
   },
   "source": [
    "## Scraping Search Results"
   ]
  },
  {
   "cell_type": "code",
   "execution_count": 5,
   "metadata": {},
   "outputs": [],
   "source": [
    "def check_search_result_window():\n",
    "    try:\n",
    "        # Wait for the counter label to appear\n",
    "        search_results_loaded = WebDriverWait(driver, 120).until(\n",
    "            EC.presence_of_element_located((By.CLASS_NAME, 'searchResultsSecurityView'))\n",
    "        )\n",
    "    except Exception as e:\n",
    "        print(\"Search results window did not load\")\n",
    "        return False\n",
    "\n",
    "# Detect large search results\n",
    "def is_large_search_result():\n",
    "    try:\n",
    "        large_search_message = driver.find_element(By.ID, 'counterLabel')\n",
    "        return \"Please use filters to narrow your search.\" in large_search_message.text\n",
    "    except Exception as e:\n",
    "        return False\n",
    "\n"
   ]
  },
  {
   "cell_type": "code",
   "execution_count": 14,
   "metadata": {
    "id": "cLvuwlygNWUT"
   },
   "outputs": [],
   "source": [
    "def select_date(input_id, date):\n",
    "    month = date.strftime(\"%b\")\n",
    "    year = date.strftime(\"%Y\")\n",
    "    day = date.strftime(\"%d\").lstrip(\"0\")\n",
    "\n",
    "    input_element = driver.find_element(By.ID, input_id)\n",
    "    if input_element:\n",
    "        input_element.click()\n",
    "    # random_sleep(1, 2)\n",
    "    # debug_page(f\"select_date_{input_id}\")\n",
    "\n",
    "    year_selector = Select(driver.find_element(By.CLASS_NAME, 'ui-datepicker-year'))\n",
    "    if year_selector:\n",
    "        year_selector.select_by_visible_text(year)\n",
    "    # debug_page(f\"select_date_year_{input_id}\")\n",
    "    month_selector = Select(driver.find_element(By.CLASS_NAME, 'ui-datepicker-month'))\n",
    "    if month_selector:\n",
    "        month_selector.select_by_visible_text(month)\n",
    "    # debug_page(f\"select_date_month_{input_id}\")\n",
    "    day_element = driver.find_element(By.XPATH, f\"//a[@data-date='{day}']\")\n",
    "    if day_element:\n",
    "        day_element.click()\n",
    "    # debug_page(f\"select_date_day_{input_id}\")\n",
    "\n",
    "# Function to select the necessary checkboxes\n",
    "def select_filings(filings):\n",
    "    # for filing in filings:\n",
    "    #   try:\n",
    "    #       label = driver.find_element(By.XPATH, f'//label[text()=\"{filing}\"]')\n",
    "    #       checkbox = label.find_element(By.XPATH, './preceding-sibling::input[@type=\"checkbox\"]')\n",
    "    #       # print(label.text)\n",
    "    #       checkbox.click()\n",
    "    #       # print(f\"Selected filing: {filing}\")\n",
    "    #   except Exception as e:\n",
    "    #       print(f\"Unable to select filing {filing}: {e}\")\n",
    "    #       debug_page(f\"select_filing_error_{filing}\")\n",
    "    \n",
    "    # for one checkbox only\n",
    "    try:\n",
    "        label = driver.find_element(By.XPATH, f'//label[text()=\"{filings}\"]')\n",
    "        checkbox = label.find_element(By.XPATH, './preceding-sibling::input[@type=\"checkbox\"]')\n",
    "        # print(label.text)\n",
    "        checkbox.click()\n",
    "        # print(f\"Selected filing: {filing}\")\n",
    "    except Exception as e:\n",
    "        print(f\"Unable to select filing {filings}: {e}\")\n",
    "        debug_page(f\"select_filing_error_{filings}\")\n",
    "\n",
    "# Function to perform the search\n",
    "def perform_search(start_date, end_date, filings):\n",
    "    \n",
    "    print('=' * 50)\n",
    "    print(f\"scraping {filings} from {start_date.strftime('%Y-%m-%d')} to {end_date.strftime('%Y-%m-%d')}\")\n",
    "    def click_disclosures_tab():\n",
    "        try:\n",
    "            disclosures_tab = WebDriverWait(driver, 5).until(\n",
    "                EC.element_to_be_clickable((By.ID, 'disclosuresFilterLi'))\n",
    "            )\n",
    "            disclosures_tab.click()\n",
    "            disclosures_tab.click()\n",
    "            disclosures_tab.click()\n",
    "            disclosures_tab.click()\n",
    "            disclosures_tab.click()\n",
    "            print('clicked on disclosures tab')\n",
    "            # random_sleep(2, 4)\n",
    "            # debug_page(\"disclosures_tab\"， filings)\n",
    "        except Exception as e:\n",
    "            print(f\"Unable to locate or click the Disclosures tab\")\n",
    "            debug_page(\"disclosures_tab_error\", filings)\n",
    "            \n",
    "    # Narrow the search by applying additional filters\n",
    "    def narrow_search_and_scrape():\n",
    "        try:\n",
    "            expand_all_filters = WebDriverWait(driver, 10).until(\n",
    "                EC.element_to_be_clickable((By.ID, 'expandAllFilter'))\n",
    "            )\n",
    "            expand_all_filters.click()\n",
    "            expand_all_filters.click()\n",
    "            expand_all_filters.click()\n",
    "            expand_all_filters.click()\n",
    "            \n",
    "            random_sleep(2, 4)\n",
    "            \n",
    "            filter_dropdown = Select(driver.find_element(By.ID, 'securedByDropdownList'))\n",
    "            options = [option.get_attribute('value') for option in filter_dropdown.options if option.get_attribute('value')]\n",
    "            df_li = []\n",
    "            for option in options:\n",
    "                print(f\"Applying filter: {option}\")\n",
    "                filter_dropdown.select_by_value(option)\n",
    "                random_sleep(2, 4)\n",
    "                \n",
    "                # Click the \"Run Search\" button again\n",
    "                run_search_button = driver.find_element(By.ID, 'runSearchButton')\n",
    "                run_search_button.click()\n",
    "                random_sleep(2, 4)\n",
    "                \n",
    "                # Wait for the search results to load\n",
    "                WebDriverWait(driver, 30).until(\n",
    "                    EC.presence_of_element_located((By.CLASS_NAME, 'searchResultsSecurityView'))\n",
    "                )\n",
    "                print(\"Window loaded\")\n",
    "                element = WebDriverWait(driver, 120).until(\n",
    "                    lambda driver: driver.find_element(By.ID, \"tabs\").get_attribute(\"style\") == \"display: block;\"\n",
    "                )\n",
    "                print(f\"Results for filter {option} loaded\")\n",
    "                \n",
    "                # if check_search_result_window():\n",
    "                length_selector = Select(WebDriverWait(driver, 120).until(\n",
    "                EC.presence_of_element_located((By.NAME, 'lvDocuments_length'))\n",
    "                ))\n",
    "                length_selector.select_by_value('100')\n",
    "                # debug_page(\"length_select\")\n",
    "                counter_label = WebDriverWait(driver, 120).until(\n",
    "                    EC.presence_of_element_located((By.ID, 'counterLabel'))\n",
    "                )\n",
    "                num_disclosures = counter_label.text.split()[0]\n",
    "                print(f\"Number of disclosures: {num_disclosures}\")\n",
    "                if num_disclosures == '0':\n",
    "                    # print(f\"No results found from {start_date.strftime('%Y-%m-%d')} to {end_date.strftime('%Y-%m-%d')}\")\n",
    "                    return None\n",
    "                \n",
    "                df = scrape_results(num_disclosures, filings)\n",
    "                print(f'number of rows: {len(df)}')\n",
    "                df_li.append(df)\n",
    "                expand_all_filters = WebDriverWait(driver, 10).until(\n",
    "                    EC.element_to_be_clickable((By.ID, 'expandAllFilter'))\n",
    "                )\n",
    "                \n",
    "                expand_all_filters.click()\n",
    "                expand_all_filters.click()\n",
    "                expand_all_filters.click()\n",
    "                expand_all_filters.click()  \n",
    "            \n",
    "            random_sleep(2, 4)\n",
    "            df = pd.concat(df_li)\n",
    "            if not os.path.exists(f'results/{filings.replace(\"/\",\"_\")}'):\n",
    "                os.makedirs(f'results/{filings.replace(\"/\",\"_\")}')\n",
    "            filename = f\"results/{filings.replace('/','_')}/results_{start_date.strftime('%Y-%m-%d')}_{end_date.strftime('%Y-%m-%d')}.csv\"\n",
    "            df.to_csv(filename, index=False)\n",
    "            print('*'*10, filename, 'Saved')\n",
    "            return df\n",
    "\n",
    "                \n",
    "            \n",
    "        except Exception as e:\n",
    "            print(f\"Error during narrow_search_and_scrape: {e}\")\n",
    "            debug_page(f\"narrow_search_error_{start_date.strftime('%Y-%m-%d')}_{end_date.strftime('%Y-%m-%d')}\", filings)\n",
    "    try:\n",
    "        driver.get('https://emma.msrb.org/Search/Search.aspx')\n",
    "        # Handle the terms of use if it appears\n",
    "        if len(driver.find_elements(By.CLASS_NAME, 'contentAreaDisclaimer')) > 0:\n",
    "            # print('terms_of_use found')\n",
    "            handle_terms_of_use()\n",
    "\n",
    "        # Click on the Disclosures tab\n",
    "        try:\n",
    "            disclosures_tab = WebDriverWait(driver, 5).until(\n",
    "                EC.element_to_be_clickable((By.ID, 'disclosuresFilterLi'))\n",
    "            )\n",
    "            disclosures_tab.click()\n",
    "            disclosures_tab.click()\n",
    "            disclosures_tab.click()\n",
    "            disclosures_tab.click()\n",
    "            disclosures_tab.click()\n",
    "            print('clicked on disclosures tab')\n",
    "            # random_sleep(2, 4)\n",
    "            # debug_page(\"disclosures_tab\"， filings)\n",
    "        except Exception as e:\n",
    "            print(f\"Unable to locate or click the Disclosures tab\")\n",
    "            # debug_page(\"disclosures_tab_error\")\n",
    "            print('try terms_of_use')\n",
    "            if handle_terms_of_use():\n",
    "                df = perform_search(start_date, end_date, filings)\n",
    "                return df\n",
    "            else:\n",
    "                print('=' * 50)\n",
    "                print('error when handling terms of use')\n",
    "                return\n",
    "        try: \n",
    "            WebDriverWait(driver, 10).until(\n",
    "                EC.visibility_of_element_located((By.XPATH, \"//h4[text()='Disclosures']\"))\n",
    "            )\n",
    "        except Exception as e:\n",
    "            print('Disclosures tab not loaded')\n",
    "            click_disclosures_tab()\n",
    "        \n",
    "        # Input the start and end dates\n",
    "\n",
    "        select_date('postingDateFrom', start_date)\n",
    "        select_date('postingDateTo', end_date)\n",
    "\n",
    "        # Select the necessary checkboxes\n",
    "        select_filings(filings)\n",
    "\n",
    "        # debug_page(\"checkbox\")\n",
    "        # Click the \"Run Search\" button\n",
    "        run_search_button = driver.find_element(By.ID, 'runSearchButton')\n",
    "        run_search_button.click()\n",
    "        random_sleep(2, 4)\n",
    "        \n",
    "        print('*** page loaded')\n",
    "        # debug_page(\"run_search\")\n",
    "        if not check_search_result_window():\n",
    "            if is_large_search_result():\n",
    "                print(\"Large search result detected\")\n",
    "                df = narrow_search_and_scrape()\n",
    "                return df\n",
    "        length_selector = Select(WebDriverWait(driver, 120).until(\n",
    "        EC.presence_of_element_located((By.NAME, 'lvDocuments_length'))\n",
    "        ))\n",
    "        length_selector.select_by_value('100')\n",
    "        # debug_page(\"length_select\")\n",
    "        counter_label = WebDriverWait(driver, 120).until(\n",
    "            EC.presence_of_element_located((By.ID, 'counterLabel'))\n",
    "        )\n",
    "        num_disclosures = counter_label.text.split()[0]\n",
    "        print(f\"Number of disclosures: {num_disclosures}\")\n",
    "        if num_disclosures == '0':\n",
    "            # print(f\"No results found from {start_date.strftime('%Y-%m-%d')} to {end_date.strftime('%Y-%m-%d')}\")\n",
    "            return None\n",
    "        df = scrape_results(num_disclosures, filings)\n",
    "        sanitized_filings = filings.replace(\"/\", \"_\")\n",
    "        if not os.path.exists(f'results/{sanitized_filings}'):\n",
    "            os.makedirs(f'results/{sanitized_filings}')\n",
    "        filename = f\"results/{sanitized_filings}/results_{start_date.strftime('%Y-%m-%d')}_{end_date.strftime('%Y-%m-%d')}.csv\"\n",
    "        df.to_csv(filename, index=False)\n",
    "        print('*'*10, filename, 'Saved')\n",
    "        \n",
    "        return df\n",
    "\n",
    "    except Exception as e:\n",
    "        print('*'*10, f\"Error during perform_search from {start_date.strftime('%Y-%m-%d')} to {end_date.strftime('%Y-%m-%d')}\")\n",
    "        debug_page(f\"perform_search_error_{start_date.strftime('%Y-%m-%d')}_{end_date.strftime('%Y-%m-%d')}\", filings)\n",
    "        return None\n"
   ]
  },
  {
   "cell_type": "code",
   "execution_count": 15,
   "metadata": {
    "id": "OMaWI4mQDrzj"
   },
   "outputs": [],
   "source": [
    "# Function to scrape the search results\n",
    "def scrape_results(num_disclosures, filings='All'):\n",
    "    results = []\n",
    "    page = 1\n",
    "    try:\n",
    "        pbar = tqdm(total=int(num_disclosures), desc='Scraping results', unit='rows')\n",
    "        while True:\n",
    "            # print('scraping page: ', page)\n",
    "            WebDriverWait(driver, 5).until(\n",
    "                EC.visibility_of_element_located((By.ID, 'lvDocuments_wrapper'))\n",
    "            )\n",
    "            # debug_page(\"scrape_results\")\n",
    "\n",
    "            # Scrape the search results from the current page\n",
    "            rows = driver.find_elements(By.CSS_SELECTOR, '#lvDocuments tbody tr')\n",
    "            # print('Number of rows: ', len(rows))\n",
    "            for row in rows:\n",
    "                issuer_name = row.find_element(By.CSS_SELECTOR, 'td:nth-child(1)').text\n",
    "                disclosure_desc = row.find_element(By.CSS_SELECTOR, 'td:nth-child(2) a').text\n",
    "                link = row.find_element(By.CSS_SELECTOR, 'td:nth-child(2) a').get_attribute('href')\n",
    "                date_posted = row.find_element(By.CSS_SELECTOR, 'td:nth-child(3)').text\n",
    "                results.append({\n",
    "                    'issuer_name': issuer_name,\n",
    "                    'disclosure_desc': disclosure_desc,\n",
    "                    'link': link,\n",
    "                    'date_posted': date_posted\n",
    "                })\n",
    "                # print(f\"Issuer: {issuer_name}, Description: {disclosure_desc}, Link: {link}, Date: {date_posted}\")\n",
    "\n",
    "            pbar.update(len(rows))\n",
    "            # print(f\"{(page - 1)* 100 + len(rows)} / {num_disclosures} Saved\")\n",
    "\n",
    "            # Check if there is a next page\n",
    "            next_button = driver.find_element(By.ID, 'lvDocuments_next')\n",
    "            if \"disabled\" in next_button.get_attribute(\"class\"):\n",
    "                break  # Exit loop if next button is disabled\n",
    "\n",
    "            next_button.click()  # Go to the next page\n",
    "            page += 1\n",
    "            random_sleep(1, 2)  # Wait for the next page to load\n",
    "\n",
    "    except Exception as e:\n",
    "        print(f\"Error during scraping results: {e}\")\n",
    "        debug_page(\"scrape_results_error\", filings)\n",
    "    pbar.close()\n",
    "    print(\"\\n\")\n",
    "    return pd.DataFrame(results)\n"
   ]
  },
  {
   "cell_type": "code",
   "execution_count": 16,
   "metadata": {},
   "outputs": [
    {
     "name": "stdout",
     "output_type": "stream",
     "text": [
      "==================================================\n",
      "scraping Interim / Additional Financial Information / Operating Data from 2020-01-01 to 2020-01-15\n",
      "clicked on disclosures tab\n",
      "Disclosures tab not loaded\n",
      "clicked on disclosures tab\n",
      "*** page loaded\n",
      "Number of disclosures: 88\n"
     ]
    },
    {
     "name": "stderr",
     "output_type": "stream",
     "text": [
      "Scraping results:   0%|          | 0/88 [00:00<?, ?rows/s]"
     ]
    },
    {
     "name": "stdout",
     "output_type": "stream",
     "text": [
      "scraping page:  1\n"
     ]
    },
    {
     "name": "stderr",
     "output_type": "stream",
     "text": [
      "Scraping results: 100%|██████████| 88/88 [00:02<00:00, 43.33rows/s]\n"
     ]
    },
    {
     "name": "stdout",
     "output_type": "stream",
     "text": [
      "\n",
      "\n",
      "********** results/Interim _ Additional Financial Information _ Operating Data/results_2020-01-01_2020-01-15.csv Saved\n",
      "Cleared the search\n",
      "==================================================\n",
      "scraping Interim / Additional Financial Information / Operating Data from 2020-01-16 to 2020-01-30\n",
      "clicked on disclosures tab\n",
      "*** page loaded\n",
      "Number of disclosures: 251\n"
     ]
    },
    {
     "name": "stderr",
     "output_type": "stream",
     "text": [
      "Scraping results:   0%|          | 0/251 [00:00<?, ?rows/s]"
     ]
    },
    {
     "name": "stdout",
     "output_type": "stream",
     "text": [
      "scraping page:  1\n"
     ]
    },
    {
     "name": "stderr",
     "output_type": "stream",
     "text": [
      "Scraping results:  40%|███▉      | 100/251 [00:02<00:03, 42.65rows/s]"
     ]
    },
    {
     "name": "stdout",
     "output_type": "stream",
     "text": [
      "scraping page:  2\n"
     ]
    },
    {
     "name": "stderr",
     "output_type": "stream",
     "text": [
      "Scraping results:  80%|███████▉  | 200/251 [00:06<00:01, 29.60rows/s]"
     ]
    },
    {
     "name": "stdout",
     "output_type": "stream",
     "text": [
      "scraping page:  3\n"
     ]
    },
    {
     "name": "stderr",
     "output_type": "stream",
     "text": [
      "Scraping results: 100%|██████████| 251/251 [00:09<00:00, 26.57rows/s]\n"
     ]
    },
    {
     "name": "stdout",
     "output_type": "stream",
     "text": [
      "\n",
      "\n",
      "********** results/Interim _ Additional Financial Information _ Operating Data/results_2020-01-16_2020-01-30.csv Saved\n",
      "Cleared the search\n",
      "==================================================\n",
      "scraping Interim / Additional Financial Information / Operating Data from 2020-01-31 to 2020-02-14\n",
      "clicked on disclosures tab\n",
      "*** page loaded\n",
      "Number of disclosures: 438\n"
     ]
    },
    {
     "name": "stderr",
     "output_type": "stream",
     "text": [
      "Scraping results:   0%|          | 0/438 [00:00<?, ?rows/s]"
     ]
    },
    {
     "name": "stdout",
     "output_type": "stream",
     "text": [
      "scraping page:  1\n"
     ]
    },
    {
     "name": "stderr",
     "output_type": "stream",
     "text": [
      "Scraping results:  23%|██▎       | 100/438 [00:02<00:08, 41.12rows/s]"
     ]
    },
    {
     "name": "stdout",
     "output_type": "stream",
     "text": [
      "scraping page:  2\n"
     ]
    },
    {
     "name": "stderr",
     "output_type": "stream",
     "text": [
      "Scraping results:  46%|████▌     | 200/438 [00:07<00:08, 27.09rows/s]"
     ]
    },
    {
     "name": "stdout",
     "output_type": "stream",
     "text": [
      "scraping page:  3\n"
     ]
    },
    {
     "name": "stderr",
     "output_type": "stream",
     "text": [
      "Scraping results:  68%|██████▊   | 300/438 [00:11<00:05, 25.15rows/s]"
     ]
    },
    {
     "name": "stdout",
     "output_type": "stream",
     "text": [
      "scraping page:  4\n"
     ]
    },
    {
     "name": "stderr",
     "output_type": "stream",
     "text": [
      "Scraping results:  91%|█████████▏| 400/438 [00:14<00:01, 26.09rows/s]"
     ]
    },
    {
     "name": "stdout",
     "output_type": "stream",
     "text": [
      "scraping page:  5\n"
     ]
    },
    {
     "name": "stderr",
     "output_type": "stream",
     "text": [
      "Scraping results: 100%|██████████| 438/438 [00:17<00:00, 25.04rows/s]\n"
     ]
    },
    {
     "name": "stdout",
     "output_type": "stream",
     "text": [
      "\n",
      "\n",
      "********** results/Interim _ Additional Financial Information _ Operating Data/results_2020-01-31_2020-02-14.csv Saved\n",
      "Cleared the search\n",
      "==================================================\n",
      "scraping Interim / Additional Financial Information / Operating Data from 2020-02-15 to 2020-02-29\n",
      "clicked on disclosures tab\n",
      "*** page loaded\n",
      "Number of disclosures: 268\n"
     ]
    },
    {
     "name": "stderr",
     "output_type": "stream",
     "text": [
      "Scraping results:   0%|          | 0/268 [00:00<?, ?rows/s]"
     ]
    },
    {
     "name": "stdout",
     "output_type": "stream",
     "text": [
      "scraping page:  1\n"
     ]
    },
    {
     "name": "stderr",
     "output_type": "stream",
     "text": [
      "Scraping results:  37%|███▋      | 100/268 [00:02<00:03, 43.99rows/s]"
     ]
    },
    {
     "name": "stdout",
     "output_type": "stream",
     "text": [
      "scraping page:  2\n"
     ]
    },
    {
     "name": "stderr",
     "output_type": "stream",
     "text": [
      "Scraping results:  75%|███████▍  | 200/268 [00:06<00:02, 28.83rows/s]"
     ]
    },
    {
     "name": "stdout",
     "output_type": "stream",
     "text": [
      "scraping page:  3\n"
     ]
    },
    {
     "name": "stderr",
     "output_type": "stream",
     "text": [
      "Scraping results: 100%|██████████| 268/268 [00:10<00:00, 26.68rows/s]\n"
     ]
    },
    {
     "name": "stdout",
     "output_type": "stream",
     "text": [
      "\n",
      "\n",
      "********** results/Interim _ Additional Financial Information _ Operating Data/results_2020-02-15_2020-02-29.csv Saved\n",
      "Cleared the search\n",
      "==================================================\n",
      "scraping Interim / Additional Financial Information / Operating Data from 2020-03-01 to 2020-03-15\n",
      "clicked on disclosures tab\n",
      "*** page loaded\n",
      "Number of disclosures: 243\n"
     ]
    },
    {
     "name": "stderr",
     "output_type": "stream",
     "text": [
      "Scraping results:   0%|          | 0/243 [00:00<?, ?rows/s]"
     ]
    },
    {
     "name": "stdout",
     "output_type": "stream",
     "text": [
      "scraping page:  1\n"
     ]
    },
    {
     "name": "stderr",
     "output_type": "stream",
     "text": [
      "Scraping results:  41%|████      | 100/243 [00:02<00:03, 44.42rows/s]"
     ]
    },
    {
     "name": "stdout",
     "output_type": "stream",
     "text": [
      "scraping page:  2\n"
     ]
    },
    {
     "name": "stderr",
     "output_type": "stream",
     "text": [
      "Scraping results:  82%|████████▏ | 200/243 [00:06<00:01, 29.00rows/s]"
     ]
    },
    {
     "name": "stdout",
     "output_type": "stream",
     "text": [
      "scraping page:  3\n"
     ]
    },
    {
     "name": "stderr",
     "output_type": "stream",
     "text": [
      "Scraping results: 100%|██████████| 243/243 [00:09<00:00, 26.71rows/s]\n"
     ]
    },
    {
     "name": "stdout",
     "output_type": "stream",
     "text": [
      "\n",
      "\n",
      "********** results/Interim _ Additional Financial Information _ Operating Data/results_2020-03-01_2020-03-15.csv Saved\n",
      "Cleared the search\n",
      "==================================================\n",
      "scraping Interim / Additional Financial Information / Operating Data from 2020-03-16 to 2020-03-30\n",
      "clicked on disclosures tab\n",
      "*** page loaded\n",
      "Large search result detected\n",
      "Applying filter: GO\n",
      "Window loaded\n",
      "Results for filter GO loaded\n",
      "Number of disclosures: 224\n"
     ]
    },
    {
     "name": "stderr",
     "output_type": "stream",
     "text": [
      "Scraping results:   0%|          | 0/224 [00:00<?, ?rows/s]"
     ]
    },
    {
     "name": "stdout",
     "output_type": "stream",
     "text": [
      "scraping page:  1\n"
     ]
    },
    {
     "name": "stderr",
     "output_type": "stream",
     "text": [
      "Scraping results:  45%|████▍     | 100/224 [00:02<00:03, 41.18rows/s]"
     ]
    },
    {
     "name": "stdout",
     "output_type": "stream",
     "text": [
      "scraping page:  2\n"
     ]
    },
    {
     "name": "stderr",
     "output_type": "stream",
     "text": [
      "Scraping results:  89%|████████▉ | 200/224 [00:05<00:00, 32.67rows/s]"
     ]
    },
    {
     "name": "stdout",
     "output_type": "stream",
     "text": [
      "scraping page:  3\n"
     ]
    },
    {
     "name": "stderr",
     "output_type": "stream",
     "text": [
      "Scraping results: 100%|██████████| 224/224 [00:07<00:00, 28.37rows/s]\n"
     ]
    },
    {
     "name": "stdout",
     "output_type": "stream",
     "text": [
      "\n",
      "\n",
      "number of rows: 224\n",
      "Applying filter: REV\n",
      "Window loaded\n",
      "Results for filter REV loaded\n",
      "Number of disclosures: 135\n"
     ]
    },
    {
     "name": "stderr",
     "output_type": "stream",
     "text": [
      "Scraping results:   0%|          | 0/135 [00:00<?, ?rows/s]"
     ]
    },
    {
     "name": "stdout",
     "output_type": "stream",
     "text": [
      "scraping page:  1\n"
     ]
    },
    {
     "name": "stderr",
     "output_type": "stream",
     "text": [
      "Scraping results:  74%|███████▍  | 100/135 [00:02<00:00, 43.86rows/s]"
     ]
    },
    {
     "name": "stdout",
     "output_type": "stream",
     "text": [
      "scraping page:  2\n"
     ]
    },
    {
     "name": "stderr",
     "output_type": "stream",
     "text": [
      "Scraping results: 100%|██████████| 135/135 [00:04<00:00, 28.14rows/s]\n"
     ]
    },
    {
     "name": "stdout",
     "output_type": "stream",
     "text": [
      "\n",
      "\n",
      "number of rows: 135\n",
      "Applying filter: DB\n",
      "Window loaded\n",
      "Results for filter DB loaded\n",
      "Number of disclosures: 10\n"
     ]
    },
    {
     "name": "stderr",
     "output_type": "stream",
     "text": [
      "Scraping results:   0%|          | 0/10 [00:00<?, ?rows/s]"
     ]
    },
    {
     "name": "stdout",
     "output_type": "stream",
     "text": [
      "scraping page:  1\n"
     ]
    },
    {
     "name": "stderr",
     "output_type": "stream",
     "text": [
      "Scraping results: 100%|██████████| 10/10 [00:00<00:00, 39.72rows/s]\n"
     ]
    },
    {
     "name": "stdout",
     "output_type": "stream",
     "text": [
      "\n",
      "\n",
      "number of rows: 10\n",
      "********** results/Interim _ Additional Financial Information _ Operating Data/results_2020-03-16_2020-03-30.csv Saved\n",
      "Cleared the search\n",
      "==================================================\n",
      "scraping Interim / Additional Financial Information / Operating Data from 2020-03-31 to 2020-04-14\n",
      "clicked on disclosures tab\n",
      "*** page loaded\n",
      "Number of disclosures: 111\n"
     ]
    },
    {
     "name": "stderr",
     "output_type": "stream",
     "text": [
      "Scraping results:   0%|          | 0/111 [00:00<?, ?rows/s]"
     ]
    },
    {
     "name": "stdout",
     "output_type": "stream",
     "text": [
      "scraping page:  1\n"
     ]
    },
    {
     "name": "stderr",
     "output_type": "stream",
     "text": [
      "Scraping results:  90%|█████████ | 100/111 [00:02<00:00, 41.94rows/s]"
     ]
    },
    {
     "name": "stdout",
     "output_type": "stream",
     "text": [
      "scraping page:  2\n"
     ]
    },
    {
     "name": "stderr",
     "output_type": "stream",
     "text": [
      "Scraping results: 100%|██████████| 111/111 [00:04<00:00, 26.54rows/s]\n"
     ]
    },
    {
     "name": "stdout",
     "output_type": "stream",
     "text": [
      "\n",
      "\n",
      "********** results/Interim _ Additional Financial Information _ Operating Data/results_2020-03-31_2020-04-14.csv Saved\n",
      "Cleared the search\n",
      "==================================================\n",
      "scraping Interim / Additional Financial Information / Operating Data from 2020-04-15 to 2020-04-29\n",
      "clicked on disclosures tab\n",
      "*** page loaded\n",
      "Number of disclosures: 41\n"
     ]
    },
    {
     "name": "stderr",
     "output_type": "stream",
     "text": [
      "Scraping results:   0%|          | 0/41 [00:00<?, ?rows/s]"
     ]
    },
    {
     "name": "stdout",
     "output_type": "stream",
     "text": [
      "scraping page:  1\n"
     ]
    },
    {
     "name": "stderr",
     "output_type": "stream",
     "text": [
      "Scraping results: 100%|██████████| 41/41 [00:01<00:00, 37.41rows/s]\n"
     ]
    },
    {
     "name": "stdout",
     "output_type": "stream",
     "text": [
      "\n",
      "\n",
      "********** results/Interim _ Additional Financial Information _ Operating Data/results_2020-04-15_2020-04-29.csv Saved\n",
      "Cleared the search\n",
      "==================================================\n",
      "scraping Interim / Additional Financial Information / Operating Data from 2020-04-30 to 2020-05-14\n",
      "clicked on disclosures tab\n",
      "*** page loaded\n",
      "Number of disclosures: 112\n"
     ]
    },
    {
     "name": "stderr",
     "output_type": "stream",
     "text": [
      "Scraping results:   0%|          | 0/112 [00:00<?, ?rows/s]"
     ]
    },
    {
     "name": "stdout",
     "output_type": "stream",
     "text": [
      "scraping page:  1\n"
     ]
    },
    {
     "name": "stderr",
     "output_type": "stream",
     "text": [
      "Scraping results:  89%|████████▉ | 100/112 [00:02<00:00, 43.30rows/s]"
     ]
    },
    {
     "name": "stdout",
     "output_type": "stream",
     "text": [
      "scraping page:  2\n"
     ]
    },
    {
     "name": "stderr",
     "output_type": "stream",
     "text": [
      "Scraping results: 100%|██████████| 112/112 [00:03<00:00, 30.45rows/s]\n"
     ]
    },
    {
     "name": "stdout",
     "output_type": "stream",
     "text": [
      "\n",
      "\n",
      "********** results/Interim _ Additional Financial Information _ Operating Data/results_2020-04-30_2020-05-14.csv Saved\n",
      "Cleared the search\n",
      "==================================================\n",
      "scraping Interim / Additional Financial Information / Operating Data from 2020-05-15 to 2020-05-29\n",
      "clicked on disclosures tab\n",
      "*** page loaded\n",
      "Number of disclosures: 101\n"
     ]
    },
    {
     "name": "stderr",
     "output_type": "stream",
     "text": [
      "Scraping results:   0%|          | 0/101 [00:00<?, ?rows/s]"
     ]
    },
    {
     "name": "stdout",
     "output_type": "stream",
     "text": [
      "scraping page:  1\n"
     ]
    },
    {
     "name": "stderr",
     "output_type": "stream",
     "text": [
      "Scraping results: 100%|██████████| 101/101 [00:03<00:00, 28.02rows/s]"
     ]
    },
    {
     "name": "stdout",
     "output_type": "stream",
     "text": [
      "scraping page:  2\n",
      "\n",
      "\n",
      "********** results/Interim _ Additional Financial Information _ Operating Data/results_2020-05-15_2020-05-29.csv Saved\n"
     ]
    },
    {
     "name": "stderr",
     "output_type": "stream",
     "text": [
      "\n"
     ]
    },
    {
     "name": "stdout",
     "output_type": "stream",
     "text": [
      "Cleared the search\n",
      "==================================================\n",
      "scraping Interim / Additional Financial Information / Operating Data from 2020-05-30 to 2020-06-13\n",
      "clicked on disclosures tab\n",
      "*** page loaded\n",
      "Number of disclosures: 55\n"
     ]
    },
    {
     "name": "stderr",
     "output_type": "stream",
     "text": [
      "Scraping results:   0%|          | 0/55 [00:00<?, ?rows/s]"
     ]
    },
    {
     "name": "stdout",
     "output_type": "stream",
     "text": [
      "scraping page:  1\n"
     ]
    },
    {
     "name": "stderr",
     "output_type": "stream",
     "text": [
      "Scraping results: 100%|██████████| 55/55 [00:01<00:00, 38.05rows/s]\n"
     ]
    },
    {
     "name": "stdout",
     "output_type": "stream",
     "text": [
      "\n",
      "\n",
      "********** results/Interim _ Additional Financial Information _ Operating Data/results_2020-05-30_2020-06-13.csv Saved\n",
      "Cleared the search\n",
      "==================================================\n",
      "scraping Interim / Additional Financial Information / Operating Data from 2020-06-14 to 2020-06-28\n",
      "clicked on disclosures tab\n",
      "*** page loaded\n",
      "Number of disclosures: 60\n"
     ]
    },
    {
     "name": "stderr",
     "output_type": "stream",
     "text": [
      "Scraping results:   0%|          | 0/60 [00:00<?, ?rows/s]"
     ]
    },
    {
     "name": "stdout",
     "output_type": "stream",
     "text": [
      "scraping page:  1\n"
     ]
    },
    {
     "name": "stderr",
     "output_type": "stream",
     "text": [
      "Scraping results: 100%|██████████| 60/60 [00:01<00:00, 43.52rows/s]\n"
     ]
    },
    {
     "name": "stdout",
     "output_type": "stream",
     "text": [
      "\n",
      "\n",
      "********** results/Interim _ Additional Financial Information _ Operating Data/results_2020-06-14_2020-06-28.csv Saved\n",
      "Cleared the search\n",
      "==================================================\n",
      "scraping Interim / Additional Financial Information / Operating Data from 2020-06-29 to 2020-07-13\n",
      "clicked on disclosures tab\n"
     ]
    },
    {
     "ename": "KeyboardInterrupt",
     "evalue": "",
     "output_type": "error",
     "traceback": [
      "\u001b[0;31m---------------------------------------------------------------------------\u001b[0m",
      "\u001b[0;31mKeyboardInterrupt\u001b[0m                         Traceback (most recent call last)",
      "Cell \u001b[0;32mIn[16], line 53\u001b[0m\n\u001b[1;32m     51\u001b[0m \u001b[38;5;28;01mwhile\u001b[39;00m start_date \u001b[38;5;241m<\u001b[39m\u001b[38;5;241m=\u001b[39m end_date:\n\u001b[1;32m     52\u001b[0m     mid_date \u001b[38;5;241m=\u001b[39m start_date \u001b[38;5;241m+\u001b[39m timedelta(days\u001b[38;5;241m=\u001b[39m\u001b[38;5;28mrange\u001b[39m) \u001b[38;5;28;01mif\u001b[39;00m start_date \u001b[38;5;241m+\u001b[39m timedelta(days\u001b[38;5;241m=\u001b[39m\u001b[38;5;28mrange\u001b[39m) \u001b[38;5;241m<\u001b[39m end_date \u001b[38;5;28;01melse\u001b[39;00m end_date\n\u001b[0;32m---> 53\u001b[0m     df \u001b[38;5;241m=\u001b[39m perform_search(start_date, mid_date, filing)\n\u001b[1;32m     54\u001b[0m     \u001b[38;5;28;01mif\u001b[39;00m df \u001b[38;5;129;01mis\u001b[39;00m \u001b[38;5;129;01mnot\u001b[39;00m \u001b[38;5;28;01mNone\u001b[39;00m:\n\u001b[1;32m     55\u001b[0m         df_list\u001b[38;5;241m.\u001b[39mappend(df)\n",
      "Cell \u001b[0;32mIn[14], line 199\u001b[0m, in \u001b[0;36mperform_search\u001b[0;34m(start_date, end_date, filings)\u001b[0m\n\u001b[1;32m    197\u001b[0m run_search_button \u001b[38;5;241m=\u001b[39m driver\u001b[38;5;241m.\u001b[39mfind_element(By\u001b[38;5;241m.\u001b[39mID, \u001b[38;5;124m'\u001b[39m\u001b[38;5;124mrunSearchButton\u001b[39m\u001b[38;5;124m'\u001b[39m)\n\u001b[1;32m    198\u001b[0m run_search_button\u001b[38;5;241m.\u001b[39mclick()\n\u001b[0;32m--> 199\u001b[0m random_sleep(\u001b[38;5;241m2\u001b[39m, \u001b[38;5;241m4\u001b[39m)\n\u001b[1;32m    201\u001b[0m \u001b[38;5;28mprint\u001b[39m(\u001b[38;5;124m'\u001b[39m\u001b[38;5;124m*** page loaded\u001b[39m\u001b[38;5;124m'\u001b[39m)\n\u001b[1;32m    202\u001b[0m \u001b[38;5;66;03m# debug_page(\"run_search\")\u001b[39;00m\n",
      "Cell \u001b[0;32mIn[4], line 3\u001b[0m, in \u001b[0;36mrandom_sleep\u001b[0;34m(min_seconds, max_seconds)\u001b[0m\n\u001b[1;32m      2\u001b[0m \u001b[38;5;28;01mdef\u001b[39;00m \u001b[38;5;21mrandom_sleep\u001b[39m(min_seconds, max_seconds):\n\u001b[0;32m----> 3\u001b[0m     sleep(random\u001b[38;5;241m.\u001b[39muniform(min_seconds, max_seconds))\n",
      "\u001b[0;31mKeyboardInterrupt\u001b[0m: "
     ]
    }
   ],
   "source": [
    "# New Version\n",
    "filings = [\n",
    "    \"Annual Financial Information and Operating Data\",\n",
    "    \"Audited Financial Statements or ACFR\",\n",
    "    \"Budget\",\n",
    "    \"Change in Accounting Standard\",\n",
    "    \"Change in Fiscal Year / Timing of Annual Disclosure\",\n",
    "    \"Consultant Reports\",\n",
    "    \"Failure to Provide Annual Financial Information as Required\",\n",
    "    \"Information Provided to Rating Agency, Credit / Liquidity Provider or Other Third Party\",\n",
    "    \"Interim / Additional Financial Information / Operating Data\",\n",
    "    \"Investment / Debt / Financial Policy\",\n",
    "    \"Other Financial / Operating Data\",\n",
    "    \"Quarterly / Monthly Financial Information\"\n",
    "]\n",
    "\n",
    "# Function to clear the search\n",
    "def clear_search():\n",
    "    try:\n",
    "        disclosures_tab = WebDriverWait(driver, 5).until(\n",
    "                EC.element_to_be_clickable((By.ID, 'disclosuresFilterLi'))\n",
    "            )\n",
    "        disclosures_tab.click()\n",
    "        disclosures_tab.click()\n",
    "\n",
    "        clear_button = WebDriverWait(driver, 10).until(\n",
    "            EC.element_to_be_clickable((By.ID, 'clearSearchButton'))\n",
    "        )\n",
    "        clear_button.click()\n",
    "        random_sleep(1, 2)  # Wait a bit to ensure the page loads completely\n",
    "        print(\"Cleared the search\")\n",
    "    except Exception as e:\n",
    "        print(f\"Unable to clear the search: {e}\")\n",
    "        debug_page(\"clear_search_error\")\n",
    "\n",
    "# Setup driver once outside the loop\n",
    "driver = setup_driver()\n",
    "\n",
    "# input date range and filings\n",
    "start_date = datetime(2020, 1, 1)\n",
    "end_date = datetime(2020, 12, 31)\n",
    "range = 14 # zero based, 1 means 2 days\n",
    "filing = filings[8] # select one filing\n",
    "\n",
    "# run the scraper\n",
    "start = start_date\n",
    "end = end_date\n",
    "df_list = []\n",
    "df_error = []\n",
    "start = start_date\n",
    "while start_date <= end_date:\n",
    "    mid_date = start_date + timedelta(days=range) if start_date + timedelta(days=range) < end_date else end_date\n",
    "    df = perform_search(start_date, mid_date, filing)\n",
    "    if df is not None:\n",
    "        df_list.append(df)\n",
    "    else:\n",
    "        df_error.append(f\"{filing}_{start_date.strftime('%Y-%m-%d')}_{mid_date.strftime('%Y-%m-%d')}\")\n",
    "        print(f\"No results found from {start_date.strftime('%Y-%m-%d')} to {mid_date.strftime('%Y-%m-%d')}\")\n",
    "    \n",
    "    start_date = mid_date + timedelta(days=1)\n",
    "    clear_search()  # Clear the search for the next iteration\n",
    "\n",
    "# Quit the driver after the loop\n",
    "driver.quit()\n",
    "\n",
    "if df_list and all(df is not None for df in df_list):\n",
    "    df = pd.concat(df_list)\n",
    "    # df.to_csv(f\"results/{filing}_combined.csv\", index=False)\n",
    "    print('='*50)\n",
    "    print('Scraping Completed')\n",
    "    print('Total length: ', len(df))\n",
    "if df_error:\n",
    "    print('Error dates found: ', len(df_error))\n",
    "    df_error = pd.DataFrame(df_error)\n",
    "    df_error.to_csv(f\"results/{filing}_error_dates_{start.strftime('%Y-%m-%d')}_{end.strftime('%Y-%m-%d')}.csv\", index=False)\n",
    "    print('Saved to: ', f\"results/{filing}_error_dates_{start.strftime('%Y-%m-%d')}_{end.strftime('%Y-%m-%d')}.csv\")\n"
   ]
  },
  {
   "cell_type": "markdown",
   "metadata": {
    "id": "t8AKqqnF_RWG"
   },
   "source": [
    "## Scraping detailed page\n"
   ]
  },
  {
   "cell_type": "code",
   "execution_count": 10,
   "metadata": {
    "id": "n3QHtKXB_Sq8"
   },
   "outputs": [],
   "source": [
    "def read_csv(file_path):\n",
    "    return pd.read_csv(file_path)\n",
    "\n",
    "def download_pdf(url, file_name):\n",
    "    headers = {\n",
    "        'User-Agent': 'Mozilla/5.0 (Windows NT 10.0; Win64; x64) AppleWebKit/537.36 (KHTML, like Gecko) Chrome/91.0.4472.124 Safari/537.36',\n",
    "        'Accept': 'application/pdf',\n",
    "        'Referer': 'https://emma.msrb.org/' \n",
    "    }\n",
    "    \n",
    "    try:\n",
    "        response = requests.get(url, headers=headers, stream=True)\n",
    "        response.raise_for_status() \n",
    "        if not os.path.exists('downloaded_pdfs'):\n",
    "            os.makedirs('downloaded_pdfs')\n",
    "        download_dir = os.path.join('downloaded_pdfs', file_name)\n",
    "        with open(download_dir, 'wb') as file:\n",
    "            for chunk in response.iter_content(chunk_size=8192):\n",
    "                file.write(chunk)\n",
    "        print(f\"Downloaded {file_name} successfully.\")\n",
    "    except requests.exceptions.RequestException as e:\n",
    "        print(f\"Failed to download {file_name}. Error: {e}\")\n",
    "    except IOError as e:\n",
    "        print(f\"Failed to save {file_name}. Error: {e}\")\n",
    "        \n",
    "# get cusip text\n",
    "def get_cusip_text(img_url):\n",
    "    headers = {\n",
    "        'User-Agent': 'Mozilla/5.0 (Windows NT 10.0; Win64; x64) AppleWebKit/537.36 (KHTML, like Gecko) Chrome/91.0.4472.124 Safari/537.36',\n",
    "        'Accept': 'application/pdf',\n",
    "        'Referer': 'https://emma.msrb.org/' \n",
    "    }\n",
    "    img_response = requests.get(img_url, headers=headers, stream=True)\n",
    "    img = Image.open(BytesIO(img_response.content))\n",
    "    cusip_text = pytesseract.image_to_string(img, config='--psm 7').strip()\n",
    "    return cusip_text\n",
    "\n",
    "# Scrape detail page\n",
    "def scrape_detail_page(link):\n",
    "    try:\n",
    "        driver.get(link)\n",
    "        # Handle the terms of use if it appears\n",
    "        if len(driver.find_elements(By.CLASS_NAME, 'contentAreaDisclaimer')) > 0:\n",
    "            # print('terms_of_use found')\n",
    "            handle_terms_of_use()\n",
    "        # print('term_of_use handled')\n",
    "        \n",
    "        # Wait for the detail page to load\n",
    "        WebDriverWait(driver, 10).until(\n",
    "            EC.presence_of_element_located((By.CLASS_NAME, 'card-body'))\n",
    "        )\n",
    "        # print('find body')\n",
    "        # click on the page to clear instructions\n",
    "        body = driver.find_element(By.TAG_NAME, 'body')\n",
    "        ActionChains(driver).move_to_element(body).click().perform()\n",
    "        # print('clicked')\n",
    "        random_sleep(2, 4)\n",
    "        # Scrape the required information\n",
    "        \n",
    "        '''\n",
    "        Part one\n",
    "        '''\n",
    "        # Extract Filing Type\n",
    "    \n",
    "        filing_type = WebDriverWait(driver, 5).until(\n",
    "            EC.visibility_of_element_located((By.ID, 'discType'))\n",
    "        ).text.strip()\n",
    "        \n",
    "        # Extract Disclosure Details\n",
    "        disclosure_details_div = WebDriverWait(driver, 5).until(\n",
    "            EC.visibility_of_element_located((By.ID, 'leftBlueBoxDiv'))\n",
    "        )   \n",
    "        disclosure_details = disclosure_details_div.text\n",
    "        \n",
    "        # Extract Contact Information\n",
    "        contact_info_div = WebDriverWait(driver, 5).until(\n",
    "            EC.visibility_of_element_located((By.ID, 'rightBlueBoxDiv'))\n",
    "        )   \n",
    "        contact_info = contact_info_div.text\n",
    "        # print('part one done')\n",
    "        '''\n",
    "        Part two\n",
    "        '''\n",
    "        # Extract Document Link\n",
    "        document_links = []\n",
    "        document_names = []\n",
    "        \n",
    "        document_button = driver.find_element(By.XPATH, \"//a[@id='viewDoc']\")\n",
    "\n",
    "        # Check if multiple documents are available\n",
    "        if document_button.get_attribute('href'):\n",
    "            document_link = document_button.get_attribute('href')\n",
    "            document_name = document_link.split('/')[-1]\n",
    "            document_links.append(document_link)\n",
    "            document_names.append(document_name)\n",
    "            # download pdf\n",
    "            download_pdf(document_link, document_name)\n",
    "        else:\n",
    "            # Get the help attribute which contains the links\n",
    "            help_attribute = document_button.get_attribute('help')\n",
    "            # Parse the help attribute as HTML\n",
    "            soup = BeautifulSoup(help_attribute, 'html.parser')\n",
    "            # Find all the links in the help attribute\n",
    "            links = [a['href'] for a in soup.find_all('a', href=True)]\n",
    "            # Download each link\n",
    "            for link in links:\n",
    "                document_name = link.split('/')[-1]\n",
    "                document_link = f\"https://emma.msrb.org{link}\"\n",
    "                document_links.append(document_link)\n",
    "                document_names.append(document_name)\n",
    "                # download pdf\n",
    "                download_pdf(document_link, document_name)\n",
    "        # print('download_pdf done')\n",
    "        \n",
    "        # Click the plus button to reveal the CUSIP image\n",
    "        WebDriverWait(driver, 10).until(\n",
    "            EC.element_to_be_clickable((By.XPATH, \"//td[@class=' w30']/img[@class='detailsImg']\"))\n",
    "        )\n",
    "        plus_button = driver.find_element(By.XPATH, \"//td[@class=' w30']/img[@class='detailsImg']\")\n",
    "        plus_button.click()\n",
    "        \n",
    "        # Wait for the CUSIP image to be visible\n",
    "        WebDriverWait(driver, 10).until(\n",
    "            EC.visibility_of_element_located((By.XPATH, \"//td/a/img[@data-cusip]\"))\n",
    "        )\n",
    "        \n",
    "        # print('cusip image found')\n",
    "        # Extract and recognize text from CUSIP image\n",
    "        cusip_img = driver.find_element(By.XPATH, \"//td/a/img[@data-cusip]\")\n",
    "        img_url = cusip_img.get_attribute('src')\n",
    "        cusip_text = get_cusip_text(img_url)\n",
    "\n",
    "        # print(cusip_text)\n",
    "        return {\n",
    "            'filing_type': filing_type,\n",
    "            'disclosure_details': disclosure_details,\n",
    "            'contact_info': contact_info,\n",
    "            'document_links': document_links,\n",
    "            'document_names': document_names,\n",
    "            'cusip_text': cusip_text\n",
    "        }\n",
    "\n",
    "    except Exception as e:\n",
    "        print(f\"Error scraping detail page {link}: {e}\")\n",
    "        debug_page(f\"{link.split('/')[-1]}_error\")\n",
    "        return None\n",
    "\n",
    "\n",
    "def scrape_detail_pages_from_csv(file_path):\n",
    "    df = read_csv(file_path)\n",
    "    detail_data = []\n",
    "    failed_links = []\n",
    "    # set up tqdm progress bar\n",
    "    pbar = tqdm(total=len(df), desc='Scraping detail pages', unit='rows', dynamic_ncols=True)\n",
    "    \n",
    "    for index, row in df.iterrows():\n",
    "        link = row['link']\n",
    "        print('='*50)\n",
    "        print('Sraping: ',link)\n",
    "        detail_info = scrape_detail_page(link)\n",
    "        if detail_info:\n",
    "            detail_data.append(detail_info)\n",
    "        else:\n",
    "            failed_links.append(link)\n",
    "        # save temp data\n",
    "        detail_df = pd.DataFrame(detail_data)\n",
    "        save_path = file_path.replace('.csv', '_temp_detail.csv')\n",
    "        detail_df.to_csv(save_path, index=False)\n",
    "        failed_links_df = pd.DataFrame(failed_links)\n",
    "        failed_path = file_path.replace('.csv', '_temp_failed_links.csv')\n",
    "        failed_links_df.to_csv(failed_path, index=False)\n",
    "        # Optional: Add a delay to mimic human behavior and avoid detection\n",
    "        random_sleep(2, 4)\n",
    "        pbar.update(1)\n",
    "        \n",
    "    pbar.close()\n",
    "    driver.quit()\n",
    "    detail_df = pd.DataFrame(detail_data)\n",
    "    print(f\"Failed to scrape {len(failed_links)} links: {failed_links}\")\n",
    "\n",
    "    return detail_df\n"
   ]
  },
  {
   "cell_type": "code",
   "execution_count": null,
   "metadata": {},
   "outputs": [],
   "source": [
    "def scrape_detail_pages_from_csv(file_path, max_workers=10):\n",
    "    df = pd.read_csv(file_path)\n",
    "    detail_data = []\n",
    "    failed_links = []\n",
    "    pbar = tqdm(total=len(df), desc='Scraping detail pages', unit='rows', dynamic_ncols=True)\n",
    "    \n",
    "    def scrape_and_collect(index, row):\n",
    "        link = row['link']\n",
    "        print('='*50)\n",
    "        print('Scraping: ', link)\n",
    "        detail_info = scrape_detail_page(link)\n",
    "        if detail_info:\n",
    "            return (index, detail_info, None)\n",
    "        else:\n",
    "            return (index, None, link)\n",
    "    \n",
    "    with ThreadPoolExecutor(max_workers=max_workers) as executor:\n",
    "        futures = {executor.submit(scrape_and_collect, index, row): index for index, row in df.iterrows()}\n",
    "        \n",
    "        for future in as_completed(futures):\n",
    "            index = futures[future]\n",
    "            try:\n",
    "                idx, detail_info, failed_link = future.result()\n",
    "                if detail_info:\n",
    "                    detail_data.append(detail_info)\n",
    "                if failed_link:\n",
    "                    failed_links.append(failed_link)\n",
    "            except Exception as exc:\n",
    "                print(f\"An error occurred: {exc}\")\n",
    "            # Save temp data\n",
    "            detail_df = pd.DataFrame(detail_data)\n",
    "            save_path = file_path.replace('.csv', '_temp_detail.csv')\n",
    "            detail_df.to_csv(save_path, index=False)\n",
    "            failed_links_df = pd.DataFrame(failed_links)\n",
    "            failed_path = file_path.replace('.csv', '_temp_failed_links.csv')\n",
    "            failed_links_df.to_csv(failed_path, index=False)\n",
    "            pbar.update(1)\n",
    "            random_sleep(2, 4)\n",
    "    \n",
    "    pbar.close()\n",
    "    detail_df = pd.DataFrame(detail_data)\n",
    "    print(f\"Failed to scrape {len(failed_links)} links: {failed_links}\")\n",
    "\n",
    "    return detail_df "
   ]
  },
  {
   "cell_type": "code",
   "execution_count": null,
   "metadata": {},
   "outputs": [],
   "source": [
    "# loop through all csv files in folder\n",
    "for file in os.listdir('results/Annual Financial Information and Operating Data'):\n",
    "    if file.endswith('.csv'):\n",
    "        file_path = os.path.join('results/Annual Financial Information and Operating Data', file)\n",
    "        print('='*50)\n",
    "        print('Scraping: ', file_path)\n",
    "        # Initialize the WebDriver\n",
    "        driver = setup_driver()\n",
    "        # Scrape details from the CSV\n",
    "        detail_df = scrape_detail_pages_from_csv(file_path)\n",
    "        save_path = file_path.replace('.csv', '_detail.csv')\n",
    "        detail_df.to_csv(save_path, index=False)\n",
    "        driver.quit()"
   ]
  },
  {
   "cell_type": "code",
   "execution_count": 11,
   "metadata": {
    "colab": {
     "base_uri": "https://localhost:8080/",
     "height": 263
    },
    "id": "LAB6o2MVA53N",
    "outputId": "c6805f09-9f98-4354-d854-aad97d2ce75e",
    "scrolled": true
   },
   "outputs": [
    {
     "name": "stderr",
     "output_type": "stream",
     "text": [
      "\n",
      "\n",
      "\u001b[A\u001b[A"
     ]
    },
    {
     "name": "stdout",
     "output_type": "stream",
     "text": [
      "==================================================\n",
      "Sraping:  https://emma.msrb.org/MarketActivity/ContinuingDisclosureDetails/P21089859\n",
      "Downloaded P21425992-P21107616-P21517756.pdf successfully.\n"
     ]
    },
    {
     "name": "stderr",
     "output_type": "stream",
     "text": [
      "\n",
      "\n",
      "\u001b[A\u001b[A"
     ]
    },
    {
     "name": "stdout",
     "output_type": "stream",
     "text": [
      "==================================================\n",
      "Sraping:  https://emma.msrb.org/MarketActivity/ContinuingDisclosureDetails/P21089859\n",
      "Downloaded P21425992-P21107616-P21517756.pdf successfully.\n"
     ]
    },
    {
     "name": "stderr",
     "output_type": "stream",
     "text": [
      "\n",
      "\n",
      "\u001b[A\u001b[A"
     ]
    },
    {
     "name": "stdout",
     "output_type": "stream",
     "text": [
      "==================================================\n",
      "Sraping:  https://emma.msrb.org/MarketActivity/ContinuingDisclosureDetails/P21089859\n",
      "Downloaded P21425992-P21107616-P21517756.pdf successfully.\n"
     ]
    },
    {
     "name": "stderr",
     "output_type": "stream",
     "text": [
      "\n",
      "\n",
      "\u001b[A\u001b[A"
     ]
    },
    {
     "name": "stdout",
     "output_type": "stream",
     "text": [
      "==================================================\n",
      "Sraping:  https://emma.msrb.org/MarketActivity/ContinuingDisclosureDetails/P21089700\n",
      "Downloaded P21518239-P21107457-P21517587.pdf successfully.\n"
     ]
    },
    {
     "name": "stderr",
     "output_type": "stream",
     "text": [
      "\n",
      "\n",
      "\u001b[A\u001b[A"
     ]
    },
    {
     "name": "stdout",
     "output_type": "stream",
     "text": [
      "==================================================\n",
      "Sraping:  https://emma.msrb.org/MarketActivity/ContinuingDisclosureDetails/P21089700\n",
      "Downloaded P21518239-P21107457-P21517587.pdf successfully.\n"
     ]
    },
    {
     "name": "stderr",
     "output_type": "stream",
     "text": [
      "\n",
      "\n",
      "\u001b[A\u001b[A"
     ]
    },
    {
     "name": "stdout",
     "output_type": "stream",
     "text": [
      "==================================================\n",
      "Sraping:  https://emma.msrb.org/MarketActivity/ContinuingDisclosureDetails/P21089700\n",
      "Downloaded P21518239-P21107457-P21517587.pdf successfully.\n"
     ]
    },
    {
     "name": "stderr",
     "output_type": "stream",
     "text": [
      "\n",
      "\n",
      "\u001b[A\u001b[A"
     ]
    },
    {
     "name": "stdout",
     "output_type": "stream",
     "text": [
      "==================================================\n",
      "Sraping:  https://emma.msrb.org/MarketActivity/ContinuingDisclosureDetails/P21089700\n",
      "Downloaded P21518239-P21107457-P21517587.pdf successfully.\n"
     ]
    },
    {
     "name": "stderr",
     "output_type": "stream",
     "text": [
      "\n",
      "\n",
      "\u001b[A\u001b[A"
     ]
    },
    {
     "name": "stdout",
     "output_type": "stream",
     "text": [
      "==================================================\n",
      "Sraping:  https://emma.msrb.org/MarketActivity/ContinuingDisclosureDetails/P21089702\n",
      "Downloaded P21425712-P21107459-P21517589.pdf successfully.\n"
     ]
    },
    {
     "ename": "KeyboardInterrupt",
     "evalue": "",
     "output_type": "error",
     "traceback": [
      "\u001b[0;31m---------------------------------------------------------------------------\u001b[0m",
      "\u001b[0;31mKeyboardInterrupt\u001b[0m                         Traceback (most recent call last)",
      "Cell \u001b[0;32mIn[11], line 10\u001b[0m\n\u001b[1;32m      7\u001b[0m driver \u001b[38;5;241m=\u001b[39m setup_driver()\n\u001b[1;32m      9\u001b[0m \u001b[38;5;66;03m# Use the function to scrape details from the CSV\u001b[39;00m\n\u001b[0;32m---> 10\u001b[0m detail_df \u001b[38;5;241m=\u001b[39m scrape_detail_pages_from_csv(file_path)\n\u001b[1;32m     11\u001b[0m save_path \u001b[38;5;241m=\u001b[39m file_path\u001b[38;5;241m.\u001b[39mreplace(\u001b[38;5;124m'\u001b[39m\u001b[38;5;124m.csv\u001b[39m\u001b[38;5;124m'\u001b[39m, \u001b[38;5;124m'\u001b[39m\u001b[38;5;124m_detail.csv\u001b[39m\u001b[38;5;124m'\u001b[39m)\n\u001b[1;32m     12\u001b[0m detail_df\u001b[38;5;241m.\u001b[39mto_csv(save_path, index\u001b[38;5;241m=\u001b[39m\u001b[38;5;28;01mFalse\u001b[39;00m)\n",
      "Cell \u001b[0;32mIn[10], line 173\u001b[0m, in \u001b[0;36mscrape_detail_pages_from_csv\u001b[0;34m(file_path)\u001b[0m\n\u001b[1;32m    171\u001b[0m     failed_links_df\u001b[38;5;241m.\u001b[39mto_csv(failed_path, index\u001b[38;5;241m=\u001b[39m\u001b[38;5;28;01mFalse\u001b[39;00m)\n\u001b[1;32m    172\u001b[0m     \u001b[38;5;66;03m# Optional: Add a delay to mimic human behavior and avoid detection\u001b[39;00m\n\u001b[0;32m--> 173\u001b[0m     random_sleep(\u001b[38;5;241m2\u001b[39m, \u001b[38;5;241m4\u001b[39m)\n\u001b[1;32m    174\u001b[0m     pbar\u001b[38;5;241m.\u001b[39mupdate(\u001b[38;5;241m1\u001b[39m)\n\u001b[1;32m    176\u001b[0m pbar\u001b[38;5;241m.\u001b[39mclose()\n",
      "Cell \u001b[0;32mIn[4], line 3\u001b[0m, in \u001b[0;36mrandom_sleep\u001b[0;34m(min_seconds, max_seconds)\u001b[0m\n\u001b[1;32m      2\u001b[0m \u001b[38;5;28;01mdef\u001b[39;00m \u001b[38;5;21mrandom_sleep\u001b[39m(min_seconds, max_seconds):\n\u001b[0;32m----> 3\u001b[0m     sleep(random\u001b[38;5;241m.\u001b[39muniform(min_seconds, max_seconds))\n",
      "\u001b[0;31mKeyboardInterrupt\u001b[0m: "
     ]
    }
   ],
   "source": [
    "\n",
    "\n",
    "# csv file\n",
    "# file_path = 'results_2024-04-24_2024-04-24.csv'\n",
    "\n",
    "file_path = 'results/Annual Financial Information and Operating Data/results_2021-01-01_2021-01-02.csv'\n",
    "\n",
    "# Initialize the WebDriver\n",
    "driver = setup_driver()\n",
    "\n",
    "# Scrape details from the CSV\n",
    "detail_df = scrape_detail_pages_from_csv(file_path)\n",
    "save_path = file_path.replace('.csv', '_detail.csv')\n",
    "detail_df.to_csv(save_path, index=False)\n",
    "driver.quit()\n",
    "\n"
   ]
  },
  {
   "cell_type": "markdown",
   "metadata": {
    "id": "nRIM4gK4_W6d"
   },
   "source": []
  }
 ],
 "metadata": {
  "colab": {
   "provenance": []
  },
  "kernelspec": {
   "display_name": "Python 3 (ipykernel)",
   "language": "python",
   "name": "python3"
  },
  "language_info": {
   "codemirror_mode": {
    "name": "ipython",
    "version": 3
   },
   "file_extension": ".py",
   "mimetype": "text/x-python",
   "name": "python",
   "nbconvert_exporter": "python",
   "pygments_lexer": "ipython3",
   "version": "3.11.5"
  }
 },
 "nbformat": 4,
 "nbformat_minor": 1
}

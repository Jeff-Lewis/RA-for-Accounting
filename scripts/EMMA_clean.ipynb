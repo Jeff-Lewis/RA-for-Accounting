{
  "cells": [
    {
      "cell_type": "code",
      "execution_count": 8,
      "metadata": {
        "colab": {
          "base_uri": "https://localhost:8080/"
        },
        "id": "xDSkjUHYNRxA",
        "outputId": "fda002ca-d4cc-492f-d223-414294b30113"
      },
      "outputs": [
        {
          "name": "stdout",
          "output_type": "stream",
          "text": [
            "Requirement already satisfied: selenium in /Users/mrplugy/anaconda3/lib/python3.11/site-packages (4.19.0)\n",
            "Requirement already satisfied: urllib3<3,>=1.26 in /Users/mrplugy/anaconda3/lib/python3.11/site-packages (from urllib3[socks]<3,>=1.26->selenium) (1.26.16)\n",
            "Requirement already satisfied: trio~=0.17 in /Users/mrplugy/anaconda3/lib/python3.11/site-packages (from selenium) (0.25.0)\n",
            "Requirement already satisfied: trio-websocket~=0.9 in /Users/mrplugy/anaconda3/lib/python3.11/site-packages (from selenium) (0.11.1)\n",
            "Requirement already satisfied: certifi>=2021.10.8 in /Users/mrplugy/anaconda3/lib/python3.11/site-packages (from selenium) (2024.2.2)\n",
            "Requirement already satisfied: typing_extensions>=4.9.0 in /Users/mrplugy/anaconda3/lib/python3.11/site-packages (from selenium) (4.10.0)\n",
            "Requirement already satisfied: attrs>=23.2.0 in /Users/mrplugy/anaconda3/lib/python3.11/site-packages (from trio~=0.17->selenium) (23.2.0)\n",
            "Requirement already satisfied: sortedcontainers in /Users/mrplugy/anaconda3/lib/python3.11/site-packages (from trio~=0.17->selenium) (2.4.0)\n",
            "Requirement already satisfied: idna in /Users/mrplugy/anaconda3/lib/python3.11/site-packages (from trio~=0.17->selenium) (3.4)\n",
            "Requirement already satisfied: outcome in /Users/mrplugy/anaconda3/lib/python3.11/site-packages (from trio~=0.17->selenium) (1.3.0.post0)\n",
            "Requirement already satisfied: sniffio>=1.3.0 in /Users/mrplugy/anaconda3/lib/python3.11/site-packages (from trio~=0.17->selenium) (1.3.1)\n",
            "Requirement already satisfied: wsproto>=0.14 in /Users/mrplugy/anaconda3/lib/python3.11/site-packages (from trio-websocket~=0.9->selenium) (1.2.0)\n",
            "Requirement already satisfied: PySocks!=1.5.7,<2.0,>=1.5.6 in /Users/mrplugy/anaconda3/lib/python3.11/site-packages (from urllib3[socks]<3,>=1.26->selenium) (1.7.1)\n",
            "Requirement already satisfied: h11<1,>=0.9.0 in /Users/mrplugy/anaconda3/lib/python3.11/site-packages (from wsproto>=0.14->trio-websocket~=0.9->selenium) (0.14.0)\n",
            "Requirement already satisfied: webdriver-manager in /Users/mrplugy/anaconda3/lib/python3.11/site-packages (4.0.1)\n",
            "Requirement already satisfied: requests in /Users/mrplugy/anaconda3/lib/python3.11/site-packages (from webdriver-manager) (2.31.0)\n",
            "Requirement already satisfied: python-dotenv in /Users/mrplugy/anaconda3/lib/python3.11/site-packages (from webdriver-manager) (0.21.0)\n",
            "Requirement already satisfied: packaging in /Users/mrplugy/anaconda3/lib/python3.11/site-packages (from webdriver-manager) (23.1)\n",
            "Requirement already satisfied: charset-normalizer<4,>=2 in /Users/mrplugy/anaconda3/lib/python3.11/site-packages (from requests->webdriver-manager) (2.0.4)\n",
            "Requirement already satisfied: idna<4,>=2.5 in /Users/mrplugy/anaconda3/lib/python3.11/site-packages (from requests->webdriver-manager) (3.4)\n",
            "Requirement already satisfied: urllib3<3,>=1.21.1 in /Users/mrplugy/anaconda3/lib/python3.11/site-packages (from requests->webdriver-manager) (1.26.16)\n",
            "Requirement already satisfied: certifi>=2017.4.17 in /Users/mrplugy/anaconda3/lib/python3.11/site-packages (from requests->webdriver-manager) (2024.2.2)\n",
            "Requirement already satisfied: tqdm in /Users/mrplugy/anaconda3/lib/python3.11/site-packages (4.65.0)\n",
            "zsh:1: command not found: apt-get\n",
            "zsh:1: command not found: apt-get\n",
            "zsh:1: command not found: wget\n",
            "zsh:1: command not found: dpkg\n",
            "zsh:1: command not found: apt-get\n",
            "zsh:1: command not found: google-chrome\n"
          ]
        }
      ],
      "source": [
        "# Install Selenium and WebDriver Manager\n",
        "!pip install selenium\n",
        "!pip install webdriver-manager\n",
        "!pip install tqdm\n",
        "\n",
        "# Install Chrome\n",
        "!apt-get update\n",
        "!apt-get install -y wget unzip\n",
        "!wget -q https://dl.google.com/linux/direct/google-chrome-stable_current_amd64.deb\n",
        "!dpkg -i google-chrome-stable_current_amd64.deb\n",
        "!apt-get -f install -y\n",
        "\n",
        "# Check the versions of Chrome\n",
        "!google-chrome --version\n"
      ]
    },
    {
      "cell_type": "code",
      "execution_count": 10,
      "metadata": {},
      "outputs": [
        {
          "name": "stdout",
          "output_type": "stream",
          "text": [
            "Requirement already satisfied: selenium in /Users/mrplugy/anaconda3/lib/python3.11/site-packages (4.19.0)\n",
            "Requirement already satisfied: urllib3<3,>=1.26 in /Users/mrplugy/anaconda3/lib/python3.11/site-packages (from urllib3[socks]<3,>=1.26->selenium) (1.26.16)\n",
            "Requirement already satisfied: trio~=0.17 in /Users/mrplugy/anaconda3/lib/python3.11/site-packages (from selenium) (0.25.0)\n",
            "Requirement already satisfied: trio-websocket~=0.9 in /Users/mrplugy/anaconda3/lib/python3.11/site-packages (from selenium) (0.11.1)\n",
            "Requirement already satisfied: certifi>=2021.10.8 in /Users/mrplugy/anaconda3/lib/python3.11/site-packages (from selenium) (2024.2.2)\n",
            "Requirement already satisfied: typing_extensions>=4.9.0 in /Users/mrplugy/anaconda3/lib/python3.11/site-packages (from selenium) (4.10.0)\n",
            "Requirement already satisfied: attrs>=23.2.0 in /Users/mrplugy/anaconda3/lib/python3.11/site-packages (from trio~=0.17->selenium) (23.2.0)\n",
            "Requirement already satisfied: sortedcontainers in /Users/mrplugy/anaconda3/lib/python3.11/site-packages (from trio~=0.17->selenium) (2.4.0)\n",
            "Requirement already satisfied: idna in /Users/mrplugy/anaconda3/lib/python3.11/site-packages (from trio~=0.17->selenium) (3.4)\n",
            "Requirement already satisfied: outcome in /Users/mrplugy/anaconda3/lib/python3.11/site-packages (from trio~=0.17->selenium) (1.3.0.post0)\n",
            "Requirement already satisfied: sniffio>=1.3.0 in /Users/mrplugy/anaconda3/lib/python3.11/site-packages (from trio~=0.17->selenium) (1.3.1)\n",
            "Requirement already satisfied: wsproto>=0.14 in /Users/mrplugy/anaconda3/lib/python3.11/site-packages (from trio-websocket~=0.9->selenium) (1.2.0)\n",
            "Requirement already satisfied: PySocks!=1.5.7,<2.0,>=1.5.6 in /Users/mrplugy/anaconda3/lib/python3.11/site-packages (from urllib3[socks]<3,>=1.26->selenium) (1.7.1)\n",
            "Requirement already satisfied: h11<1,>=0.9.0 in /Users/mrplugy/anaconda3/lib/python3.11/site-packages (from wsproto>=0.14->trio-websocket~=0.9->selenium) (0.14.0)\n",
            "Requirement already satisfied: webdriver-manager in /Users/mrplugy/anaconda3/lib/python3.11/site-packages (4.0.1)\n",
            "Requirement already satisfied: requests in /Users/mrplugy/anaconda3/lib/python3.11/site-packages (from webdriver-manager) (2.31.0)\n",
            "Requirement already satisfied: python-dotenv in /Users/mrplugy/anaconda3/lib/python3.11/site-packages (from webdriver-manager) (0.21.0)\n",
            "Requirement already satisfied: packaging in /Users/mrplugy/anaconda3/lib/python3.11/site-packages (from webdriver-manager) (23.1)\n",
            "Requirement already satisfied: charset-normalizer<4,>=2 in /Users/mrplugy/anaconda3/lib/python3.11/site-packages (from requests->webdriver-manager) (2.0.4)\n",
            "Requirement already satisfied: idna<4,>=2.5 in /Users/mrplugy/anaconda3/lib/python3.11/site-packages (from requests->webdriver-manager) (3.4)\n",
            "Requirement already satisfied: urllib3<3,>=1.21.1 in /Users/mrplugy/anaconda3/lib/python3.11/site-packages (from requests->webdriver-manager) (1.26.16)\n",
            "Requirement already satisfied: certifi>=2017.4.17 in /Users/mrplugy/anaconda3/lib/python3.11/site-packages (from requests->webdriver-manager) (2024.2.2)\n",
            "Requirement already satisfied: tqdm in /Users/mrplugy/anaconda3/lib/python3.11/site-packages (4.65.0)\n",
            "/opt/homebrew/bin/brew\n",
            "\u001b[34m==>\u001b[0m \u001b[1mAuto-updating Homebrew...\u001b[0m\n",
            "Adjust how often this is run with HOMEBREW_AUTO_UPDATE_SECS or disable with\n",
            "HOMEBREW_NO_AUTO_UPDATE. Hide these hints with HOMEBREW_NO_ENV_HINTS (see `man brew`).\n",
            "\u001b[34m==>\u001b[0m \u001b[1mDownloading https://dl.google.com/chrome/mac/universal/stable/GGRO/googlechr\u001b[0m\n",
            "######################################################################### 100.0%\n",
            "\u001b[33mWarning:\u001b[0m No checksum defined for cask 'google-chrome', skipping verification.\n",
            "\u001b[32m==>\u001b[0m \u001b[1mInstalling Cask \u001b[32mgoogle-chrome\u001b[39m\u001b[0m\n",
            "\u001b[34m==>\u001b[0m \u001b[1mPurging files for version 125.0.6422.113 of Cask google-chrome\u001b[0m\n",
            "\u001b[31mError:\u001b[0m It seems there is already an App at '/Applications/Google Chrome.app'.\n",
            "Google Chrome 125.0.6422.78 \n"
          ]
        }
      ],
      "source": [
        "# MacOS Version\n",
        "# Install Selenium and WebDriver Manager\n",
        "!pip install selenium\n",
        "!pip install webdriver-manager\n",
        "!pip install tqdm\n",
        "\n",
        "# Install Homebrew if not installed\n",
        "!which brew || /bin/bash -c \"$(curl -fsSL https://raw.githubusercontent.com/Homebrew/install/HEAD/install.sh)\"\n",
        "\n",
        "# Install Chrome using Homebrew\n",
        "!brew install --cask google-chrome\n",
        "\n",
        "# Check the version of Chrome\n",
        "!\"/Applications/Google Chrome.app/Contents/MacOS/Google Chrome\" --version\n"
      ]
    },
    {
      "cell_type": "code",
      "execution_count": 3,
      "metadata": {
        "id": "kjOPYBAQQ429"
      },
      "outputs": [],
      "source": [
        "from selenium import webdriver\n",
        "from selenium.webdriver.common.by import By\n",
        "from selenium.webdriver.chrome.service import Service\n",
        "from selenium.webdriver.support.ui import WebDriverWait, Select\n",
        "from selenium.webdriver.support import expected_conditions as EC\n",
        "from selenium.webdriver.common.action_chains import ActionChains\n",
        "from selenium.webdriver.common.keys import Keys\n",
        "from webdriver_manager.chrome import ChromeDriverManager\n",
        "from datetime import datetime, timedelta\n",
        "from bs4 import BeautifulSoup\n",
        "from time import sleep\n",
        "import pandas as pd\n",
        "import requests\n",
        "from tqdm import tqdm\n",
        "import random\n",
        "import os\n",
        "\n"
      ]
    },
    {
      "cell_type": "code",
      "execution_count": 4,
      "metadata": {},
      "outputs": [],
      "source": [
        "# Lib for image recognition\n",
        "import pytesseract\n",
        "from PIL import Image\n",
        "from io import BytesIO\n"
      ]
    },
    {
      "cell_type": "code",
      "execution_count": 5,
      "metadata": {
        "id": "JawMa235Q3v3"
      },
      "outputs": [],
      "source": [
        "# define driver\n",
        "def setup_driver():\n",
        "    chrome_options = webdriver.ChromeOptions()\n",
        "    # options.add_argument('--headless')\n",
        "    # options.add_argument('--disable-gpu')\n",
        "    # options.add_argument('--no-sandbox')\n",
        "    chrome_options.add_argument('--headless')\n",
        "    chrome_options.add_argument('--no-sandbox')\n",
        "    chrome_options.add_argument('--disable-dev-shm-usage')\n",
        "    chrome_options.add_argument('--disable-gpu')\n",
        "    chrome_options.add_argument('--window-size=1920x1080')\n",
        "    chrome_options.add_argument(\"--disable-blink-features=AutomationControlled\")\n",
        "    chrome_options.add_experimental_option(\"excludeSwitches\", [\"enable-automation\"])\n",
        "    chrome_options.add_experimental_option('useAutomationExtension', False)\n",
        "    chrome_options.add_argument(\"user-agent=Mozilla/5.0 (Windows NT 10.0; Win64; x64) AppleWebKit/537.36 (KHTML, like Gecko) Chrome/58.0.3029.110 Safari/537.3\")\n",
        "    chrome_options.add_argument(\"accept=text/html,application/xhtml+xml,application/xml;q=0.9,image/webp,image/apng,*/*;q=0.8\")\n",
        "    chrome_options.add_argument(\"accept-language=en-US,en;q=0.9\")\n",
        "    chrome_options.add_argument(\"accept-encoding=gzip, deflate, br\")\n",
        "    chrome_options.add_argument(\"upgrade-insecure-requests=1\")\n",
        "    chrome_options.add_argument(\"cache-control=no-cache\")\n",
        "    # driver = webdriver.Chrome(service=Service(ChromeDriverManager().install()), options=chrome_options)\n",
        "    driver = webdriver.Chrome(options=chrome_options) # if error, use this version\n",
        "    return driver\n",
        "\n"
      ]
    },
    {
      "cell_type": "code",
      "execution_count": 6,
      "metadata": {
        "id": "_mc4mQ7fREL6"
      },
      "outputs": [],
      "source": [
        "# Function to perform random sleep to mimic human behavior\n",
        "def random_sleep(min_seconds, max_seconds):\n",
        "    sleep(random.uniform(min_seconds, max_seconds))\n",
        "\n",
        "def debug_page(filename_prefix):\n",
        "    if not os.path.exists('debug_dir'):\n",
        "        os.makedirs('debug_dir')\n",
        "    page_source = driver.page_source\n",
        "    with open(f\"debug_dir/{filename_prefix}_page_source.html\", \"w\", encoding=\"utf-8\") as file:\n",
        "        file.write(page_source)\n",
        "    driver.save_screenshot(f\"debug_dir/{filename_prefix}_screenshot.png\")\n",
        "    print(f\"Debug info saved: {filename_prefix}_page_source.html and {filename_prefix}_screenshot.png\")\n",
        "\n",
        "# Function to handle the Terms of Use page\n",
        "def handle_terms_of_use():\n",
        "    try:\n",
        "        driver.execute_script(\"window.scrollTo(0, document.body.scrollHeight);\")\n",
        "        accept_button = WebDriverWait(driver, 5).until(\n",
        "            EC.element_to_be_clickable((By.ID, 'ctl00_mainContentArea_disclaimerContent_yesButton'))\n",
        "        )\n",
        "        # debug_page(\"terms_of_use\")\n",
        "        accept_button.click()\n",
        "        random_sleep(1, 2)  # Wait a bit to ensure the page loads completely\n",
        "        # print(\"Accepted Terms of Use\")\n",
        "        return True\n",
        "    except Exception as e:\n",
        "        print(f\"No Terms of Use page found or unable to click accept button: \")\n",
        "        # debug_page(\"terms_of_use_error\")\n",
        "    return False"
      ]
    },
    {
      "cell_type": "markdown",
      "metadata": {
        "id": "4UWKcKLx_gQf"
      },
      "source": [
        "## Scraping Search Results"
      ]
    },
    {
      "cell_type": "code",
      "execution_count": 68,
      "metadata": {
        "id": "cLvuwlygNWUT"
      },
      "outputs": [],
      "source": [
        "def select_date(input_id, date):\n",
        "    month = date.strftime(\"%b\")\n",
        "    year = date.strftime(\"%Y\")\n",
        "    day = date.strftime(\"%d\").lstrip(\"0\")\n",
        "\n",
        "    input_element = driver.find_element(By.ID, input_id)\n",
        "    if input_element:\n",
        "      input_element.click()\n",
        "    # random_sleep(1, 2)\n",
        "    # debug_page(f\"select_date_{input_id}\")\n",
        "\n",
        "    year_selector = Select(driver.find_element(By.CLASS_NAME, 'ui-datepicker-year'))\n",
        "    if year_selector:\n",
        "      year_selector.select_by_visible_text(year)\n",
        "    # debug_page(f\"select_date_year_{input_id}\")\n",
        "    month_selector = Select(driver.find_element(By.CLASS_NAME, 'ui-datepicker-month'))\n",
        "    if month_selector:\n",
        "      month_selector.select_by_visible_text(month)\n",
        "    # debug_page(f\"select_date_month_{input_id}\")\n",
        "    day_element = driver.find_element(By.XPATH, f\"//a[@data-date='{day}']\")\n",
        "    if day_element:\n",
        "      day_element.click()\n",
        "    # debug_page(f\"select_date_day_{input_id}\")\n",
        "\n",
        "# Function to select the necessary checkboxes\n",
        "def select_filings(filings):\n",
        "    # for filing in filings:\n",
        "    #   try:\n",
        "    #       label = driver.find_element(By.XPATH, f'//label[text()=\"{filing}\"]')\n",
        "    #       checkbox = label.find_element(By.XPATH, './preceding-sibling::input[@type=\"checkbox\"]')\n",
        "    #       # print(label.text)\n",
        "    #       checkbox.click()\n",
        "    #       # print(f\"Selected filing: {filing}\")\n",
        "    #   except Exception as e:\n",
        "    #       print(f\"Unable to select filing {filing}: {e}\")\n",
        "    #       debug_page(f\"select_filing_error_{filing}\")\n",
        "    \n",
        "    # for one checkbox only\n",
        "    try:\n",
        "        label = driver.find_element(By.XPATH, f'//label[text()=\"{filings}\"]')\n",
        "        checkbox = label.find_element(By.XPATH, './preceding-sibling::input[@type=\"checkbox\"]')\n",
        "        # print(label.text)\n",
        "        checkbox.click()\n",
        "        # print(f\"Selected filing: {filing}\")\n",
        "    except Exception as e:\n",
        "        print(f\"Unable to select filing {filings}: {e}\")\n",
        "        debug_page(f\"select_filing_error_{filings}\")\n",
        "\n",
        "# Function to perform the search\n",
        "def perform_search(start_date, end_date, filings):\n",
        "  print('=' * 50)\n",
        "  print(f\"scraping {filings} from {start_date.strftime('%Y-%m-%d')} to {end_date.strftime('%Y-%m-%d')}\")\n",
        "\n",
        "  try:\n",
        "      driver.get('https://emma.msrb.org/Search/Search.aspx')\n",
        "      handle_terms_of_use()  # Call the function to handle Terms of Use\n",
        "\n",
        "      # Click on the Disclosures tab\n",
        "      try:\n",
        "          disclosures_tab = WebDriverWait(driver, 2).until(\n",
        "              EC.element_to_be_clickable((By.ID, 'disclosuresFilterLi'))\n",
        "          )\n",
        "          disclosures_tab.click()\n",
        "          # print('clicked on disclosures tab')\n",
        "          # random_sleep(2, 4)\n",
        "          # debug_page(\"disclosures_tab\")\n",
        "      except Exception as e:\n",
        "          print(f\"Unable to locate or click the Disclosures tab\")\n",
        "          # debug_page(\"disclosures_tab_error\")\n",
        "          print('try terms_of_use')\n",
        "          if handle_terms_of_use():\n",
        "            df = perform_search(start_date, end_date, filings)\n",
        "            return df\n",
        "          else:\n",
        "            print('=' * 50)\n",
        "            print('error when handling terms of use')\n",
        "            return\n",
        "      # Input the start and end dates\n",
        "\n",
        "      select_date('postingDateFrom', start_date)\n",
        "      select_date('postingDateTo', end_date)\n",
        "\n",
        "      # Select the necessary checkboxes\n",
        "      select_filings(filings)\n",
        "      \n",
        "      # debug_page(\"checkbox\")\n",
        "      # Click the \"Run Search\" button\n",
        "      run_search_button = driver.find_element(By.ID, 'runSearchButton')\n",
        "      run_search_button.click()\n",
        "      random_sleep(2, 4)\n",
        "      # Wait for the counter label to appear\n",
        "      search_results_loaded = WebDriverWait(driver, 30).until(\n",
        "          EC.presence_of_element_located((By.CLASS_NAME, 'searchResultsSecurityView'))\n",
        "      )\n",
        "\n",
        "      print('*** page loaded')\n",
        "      # debug_page(\"run_search\")\n",
        "      length_selector = Select(WebDriverWait(driver, 10).until(\n",
        "      EC.presence_of_element_located((By.NAME, 'lvDocuments_length'))\n",
        "      ))\n",
        "      length_selector.select_by_value('100')\n",
        "      # debug_page(\"length_select\")\n",
        "      counter_label = WebDriverWait(driver, 10).until(\n",
        "          EC.presence_of_element_located((By.ID, 'counterLabel'))\n",
        "      )\n",
        "      num_disclosures = counter_label.text.split()[0]\n",
        "      print(f\"Number of disclosures: {num_disclosures}\")\n",
        "      if num_disclosures == '0':\n",
        "          # print(f\"No results found from {start_date.strftime('%Y-%m-%d')} to {end_date.strftime('%Y-%m-%d')}\")\n",
        "          return None\n",
        "      df = scrape_results(num_disclosures)\n",
        "      if not os.path.exists(f'results/{filings}'):\n",
        "        os.makedirs(f'results/{filings}')\n",
        "      filename = f\"results/{filings}/results_{start_date.strftime('%Y-%m-%d')}_{end_date.strftime('%Y-%m-%d')}.csv\"\n",
        "      df.to_csv(filename, index=False)\n",
        "      print('*'*10, filename, 'Saved')\n",
        "      return df\n",
        "  except Exception as e:\n",
        "      print('*'*10, f\"Error during perform_search from {start_date.strftime('%Y-%m-%d')} to {end_date.strftime('%Y-%m-%d')}\")\n",
        "      debug_page(f\"perform_search_error_{start_date.strftime('%Y-%m-%d')}_{end_date.strftime('%Y-%m-%d')}\")\n",
        "      return None\n"
      ]
    },
    {
      "cell_type": "code",
      "execution_count": 57,
      "metadata": {
        "id": "OMaWI4mQDrzj"
      },
      "outputs": [],
      "source": [
        "# Function to scrape the search results\n",
        "def scrape_results(num_disclosures):\n",
        "    results = []\n",
        "    page = 1\n",
        "    try:\n",
        "        pbar = tqdm(total=int(num_disclosures), desc='Scraping results', unit='rows')\n",
        "        while True:\n",
        "            print('scraping page: ', page)\n",
        "            WebDriverWait(driver, 20).until(\n",
        "                EC.visibility_of_element_located((By.ID, 'lvDocuments_wrapper'))\n",
        "            )\n",
        "            # debug_page(\"scrape_results\")\n",
        "\n",
        "            # Scrape the search results from the current page\n",
        "            rows = driver.find_elements(By.CSS_SELECTOR, '#lvDocuments tbody tr')\n",
        "            # print('Number of rows: ', len(rows))\n",
        "            for row in rows:\n",
        "                issuer_name = row.find_element(By.CSS_SELECTOR, 'td:nth-child(1)').text\n",
        "                disclosure_desc = row.find_element(By.CSS_SELECTOR, 'td:nth-child(2) a').text\n",
        "                link = row.find_element(By.CSS_SELECTOR, 'td:nth-child(2) a').get_attribute('href')\n",
        "                date_posted = row.find_element(By.CSS_SELECTOR, 'td:nth-child(3)').text\n",
        "                results.append({\n",
        "                    'issuer_name': issuer_name,\n",
        "                    'disclosure_desc': disclosure_desc,\n",
        "                    'link': link,\n",
        "                    'date_posted': date_posted\n",
        "                })\n",
        "                # print(f\"Issuer: {issuer_name}, Description: {disclosure_desc}, Link: {link}, Date: {date_posted}\")\n",
        "\n",
        "            pbar.update(len(rows))\n",
        "            # print(f\"{(page - 1)* 100 + len(rows)} / {num_disclosures} Saved\")\n",
        "\n",
        "            # Check if there is a next page\n",
        "            next_button = driver.find_element(By.ID, 'lvDocuments_next')\n",
        "            if \"disabled\" in next_button.get_attribute(\"class\"):\n",
        "                break  # Exit loop if next button is disabled\n",
        "\n",
        "            next_button.click()  # Go to the next page\n",
        "            page += 1\n",
        "            random_sleep(1, 2)  # Wait for the next page to load\n",
        "\n",
        "    except Exception as e:\n",
        "        print(f\"Error during scraping results: {e}\")\n",
        "        debug_page(\"scrape_results_error\")\n",
        "    pbar.close()\n",
        "    print(\"\\n\")\n",
        "    return pd.DataFrame(results)\n"
      ]
    },
    {
      "cell_type": "code",
      "execution_count": 70,
      "metadata": {
        "colab": {
          "base_uri": "https://localhost:8080/"
        },
        "collapsed": true,
        "id": "bc7Y5YDApZNK",
        "outputId": "930043f7-5f8b-46f1-a2a7-428b23e17db7"
      },
      "outputs": [
        {
          "name": "stdout",
          "output_type": "stream",
          "text": [
            "==================================================\n",
            "scraping Information Provided to Rating Agency, Credit / Liquidity Provider or Other Third Party from 2024-04-24 to 2024-04-25\n",
            "*** page loaded\n",
            "Number of disclosures: 2\n"
          ]
        },
        {
          "name": "stderr",
          "output_type": "stream",
          "text": [
            "Scraping results: 100%|██████████| 2/2 [00:00<00:00, 29.95rows/s]"
          ]
        },
        {
          "name": "stdout",
          "output_type": "stream",
          "text": [
            "scraping page:  1\n",
            "\n",
            "\n",
            "********** results/Information Provided to Rating Agency, Credit / Liquidity Provider or Other Third Party/results_2024-04-24_2024-04-25.csv Saved\n"
          ]
        },
        {
          "name": "stderr",
          "output_type": "stream",
          "text": [
            "\n"
          ]
        },
        {
          "name": "stdout",
          "output_type": "stream",
          "text": [
            "==================================================\n",
            "scraping Information Provided to Rating Agency, Credit / Liquidity Provider or Other Third Party from 2024-04-26 to 2024-04-26\n",
            "*** page loaded\n",
            "Number of disclosures: 0\n",
            "No results found from 2024-04-26 to 2024-04-26\n",
            "2\n"
          ]
        }
      ],
      "source": [
        "filings = [\n",
        "    \"Annual Financial Information and Operating Data\",\n",
        "    \"Audited Financial Statements or ACFR\",\n",
        "    \"Budget\",\n",
        "    \"Change in Accounting Standard\",\n",
        "    \"Change in Fiscal Year / Timing of Annual Disclosure\",\n",
        "    \"Consultant Reports\",\n",
        "    \"Failure to Provide Annual Financial Information as Required\",\n",
        "    \"Information Provided to Rating Agency, Credit / Liquidity Provider or Other Third Party\",\n",
        "    \"Interim / Additional Financial Information / Operating Data\",\n",
        "    \"Investment / Debt / Financial Policy\",\n",
        "    \"Other Financial / Operating Data\",\n",
        "    \"Quarterly / Monthly Financial Information\"\n",
        "]\n",
        "\n",
        "# input date range and filings\n",
        "start_date = datetime(2024, 4, 24)\n",
        "end_date = datetime(2024, 4, 26)\n",
        "range = 1 # zero based, 1 means 2 days\n",
        "filing = filings[7] # select one filing\n",
        "\n",
        "\n",
        "# run the scraper\n",
        "df_list = []\n",
        "while start_date <= end_date:\n",
        "  driver = setup_driver()\n",
        "  mid_date = start_date + timedelta(days=range) if start_date + timedelta(days=range) < end_date else end_date\n",
        "  df = perform_search(start_date, mid_date, filing)\n",
        "  if df is not None:\n",
        "    df_list.append(df)\n",
        "  else:\n",
        "    print(f\"No results found from {start_date.strftime('%Y-%m-%d')} to {mid_date.strftime('%Y-%m-%d')}\")\n",
        "    \n",
        "  start_date = mid_date + timedelta(days=1)\n",
        "  driver.quit()\n",
        "if df_list and all(df is not None for df in df_list):\n",
        "  df = pd.concat(df_list)\n",
        "  # df.to_csv(f\"results/{filing}_combined.csv\", index=False)\n",
        "  print(len(df))"
      ]
    },
    {
      "cell_type": "markdown",
      "metadata": {
        "id": "t8AKqqnF_RWG"
      },
      "source": [
        "## Scrape detailed page"
      ]
    },
    {
      "cell_type": "code",
      "execution_count": 20,
      "metadata": {
        "id": "n3QHtKXB_Sq8"
      },
      "outputs": [],
      "source": [
        "def read_csv(file_path):\n",
        "    return pd.read_csv(file_path)\n",
        "\n",
        "def download_pdf(url, file_name):\n",
        "    headers = {\n",
        "        'User-Agent': 'Mozilla/5.0 (Windows NT 10.0; Win64; x64) AppleWebKit/537.36 (KHTML, like Gecko) Chrome/91.0.4472.124 Safari/537.36',\n",
        "        'Accept': 'application/pdf',\n",
        "        'Referer': 'https://emma.msrb.org/' \n",
        "    }\n",
        "    \n",
        "    try:\n",
        "        response = requests.get(url, headers=headers, stream=True)\n",
        "        response.raise_for_status() \n",
        "        if not os.path.exists('downloaded_pdfs'):\n",
        "            os.makedirs('downloaded_pdfs')\n",
        "        download_dir = os.path.join('downloaded_pdfs', file_name)\n",
        "        with open(download_dir, 'wb') as file:\n",
        "            for chunk in response.iter_content(chunk_size=8192):\n",
        "                file.write(chunk)\n",
        "        print(f\"Downloaded {file_name} successfully.\")\n",
        "    except requests.exceptions.RequestException as e:\n",
        "        print(f\"Failed to download {file_name}. Error: {e}\")\n",
        "    except IOError as e:\n",
        "        print(f\"Failed to save {file_name}. Error: {e}\")\n",
        "        \n",
        "# get cusip text\n",
        "def get_cusip_text(img_url):\n",
        "    headers = {\n",
        "        'User-Agent': 'Mozilla/5.0 (Windows NT 10.0; Win64; x64) AppleWebKit/537.36 (KHTML, like Gecko) Chrome/91.0.4472.124 Safari/537.36',\n",
        "        'Accept': 'application/pdf',\n",
        "        'Referer': 'https://emma.msrb.org/' \n",
        "    }\n",
        "    img_response = requests.get(img_url, headers=headers, stream=True)\n",
        "    img = Image.open(BytesIO(img_response.content))\n",
        "    cusip_text = pytesseract.image_to_string(img, config='--psm 7').strip()\n",
        "    return cusip_text\n",
        "\n",
        "# Scrape detail page\n",
        "def scrape_detail_page(link):\n",
        "    try:\n",
        "        driver.get(link)\n",
        "        # Handle the terms of use if it appears\n",
        "        if len(driver.find_elements(By.CLASS_NAME, 'contentAreaDisclaimer')) > 0:\n",
        "            # print('terms_of_use found')\n",
        "            handle_terms_of_use()\n",
        "        # print('term_of_use handled')\n",
        "        \n",
        "        # Wait for the detail page to load\n",
        "        WebDriverWait(driver, 10).until(\n",
        "            EC.presence_of_element_located((By.CLASS_NAME, 'card-body'))\n",
        "        )\n",
        "        # print('find body')\n",
        "        # click on the page to clear instructions\n",
        "        body = driver.find_element(By.TAG_NAME, 'body')\n",
        "        ActionChains(driver).move_to_element(body).click().perform()\n",
        "        # print('clicked')\n",
        "        random_sleep(2, 4)\n",
        "        # Scrape the required information\n",
        "        \n",
        "        '''\n",
        "        Part one\n",
        "        '''\n",
        "        # Extract Filing Type\n",
        "    \n",
        "        filing_type = WebDriverWait(driver, 5).until(\n",
        "            EC.visibility_of_element_located((By.ID, 'discType'))\n",
        "        ).text.strip()\n",
        "        \n",
        "        # Extract Disclosure Details\n",
        "        disclosure_details_div = WebDriverWait(driver, 5).until(\n",
        "            EC.visibility_of_element_located((By.ID, 'leftBlueBoxDiv'))\n",
        "        )   \n",
        "        disclosure_details = disclosure_details_div.text\n",
        "        \n",
        "        # Extract Contact Information\n",
        "        contact_info_div = WebDriverWait(driver, 5).until(\n",
        "            EC.visibility_of_element_located((By.ID, 'rightBlueBoxDiv'))\n",
        "        )   \n",
        "        contact_info = contact_info_div.text\n",
        "        # print('part one done')\n",
        "        '''\n",
        "        Part two\n",
        "        '''\n",
        "        # Extract Document Link\n",
        "        document_links = []\n",
        "        document_names = []\n",
        "        \n",
        "        document_button = driver.find_element(By.XPATH, \"//a[@id='viewDoc']\")\n",
        "\n",
        "        # Check if multiple documents are available\n",
        "        if document_button.get_attribute('href'):\n",
        "            document_link = document_button.get_attribute('href')\n",
        "            document_name = document_link.split('/')[-1]\n",
        "            document_links.append(document_link)\n",
        "            document_names.append(document_name)\n",
        "            # download pdf\n",
        "            download_pdf(document_link, document_name)\n",
        "        else:\n",
        "            # Get the help attribute which contains the links\n",
        "            help_attribute = document_button.get_attribute('help')\n",
        "            # Parse the help attribute as HTML\n",
        "            soup = BeautifulSoup(help_attribute, 'html.parser')\n",
        "            # Find all the links in the help attribute\n",
        "            links = [a['href'] for a in soup.find_all('a', href=True)]\n",
        "            # Download each link\n",
        "            for link in links:\n",
        "                document_name = link.split('/')[-1]\n",
        "                document_link = f\"https://emma.msrb.org{link}\"\n",
        "                document_links.append(document_link)\n",
        "                document_names.append(document_name)\n",
        "                # download pdf\n",
        "                download_pdf(document_link, document_name)\n",
        "        # print('download_pdf done')\n",
        "        \n",
        "        # Click the plus button to reveal the CUSIP image\n",
        "        WebDriverWait(driver, 10).until(\n",
        "            EC.element_to_be_clickable((By.XPATH, \"//td[@class=' w30']/img[@class='detailsImg']\"))\n",
        "        )\n",
        "        plus_button = driver.find_element(By.XPATH, \"//td[@class=' w30']/img[@class='detailsImg']\")\n",
        "        plus_button.click()\n",
        "        \n",
        "        # Wait for the CUSIP image to be visible\n",
        "        WebDriverWait(driver, 10).until(\n",
        "            EC.visibility_of_element_located((By.XPATH, \"//td/a/img[@data-cusip]\"))\n",
        "        )\n",
        "        \n",
        "        # print('cusip image found')\n",
        "        # Extract and recognize text from CUSIP image\n",
        "        cusip_img = driver.find_element(By.XPATH, \"//td/a/img[@data-cusip]\")\n",
        "        img_url = cusip_img.get_attribute('src')\n",
        "        cusip_text = get_cusip_text(img_url)\n",
        "\n",
        "        # print(cusip_text)\n",
        "        return {\n",
        "            'filing_type': filing_type,\n",
        "            'disclosure_details': disclosure_details,\n",
        "            'contact_info': contact_info,\n",
        "            'document_links': document_links,\n",
        "            'document_names': document_names,\n",
        "            'cusip_text': cusip_text\n",
        "        }\n",
        "\n",
        "    except Exception as e:\n",
        "        print(f\"Error scraping detail page {link}: {e}\")\n",
        "        debug_page(f\"{link.split('/')[-1]}_error\")\n",
        "        return None\n",
        "\n",
        "\n",
        "def scrape_detail_pages_from_csv(file_path):\n",
        "    df = read_csv(file_path)\n",
        "    detail_data = []\n",
        "    # set up tqdm progress bar\n",
        "    pbar = tqdm(total=len(df), desc='Scraping detail pages', unit='rows')\n",
        "    \n",
        "    random_sleep(2, 4)\n",
        "    for index, row in df.iterrows():\n",
        "        link = row['link']\n",
        "        print('='*50)\n",
        "        print('Sraping: ',link)\n",
        "        detail_info = scrape_detail_page(link)\n",
        "        if detail_info:\n",
        "            detail_data.append(detail_info)\n",
        "        # save temp data\n",
        "        detail_df = pd.DataFrame(detail_data)\n",
        "        detail_df.to_csv(f'temp_detail_data_{file_path}', index=False)\n",
        "        # Optional: Add a delay to mimic human behavior and avoid detection\n",
        "        random_sleep(2, 4)\n",
        "        pbar.update(1)\n",
        "        \n",
        "    pbar.close()\n",
        "    driver.quit()\n",
        "    detail_df = pd.DataFrame(detail_data)\n",
        "    return detail_df\n"
      ]
    },
    {
      "cell_type": "code",
      "execution_count": 25,
      "metadata": {},
      "outputs": [],
      "source": [
        "driver.close()"
      ]
    },
    {
      "cell_type": "code",
      "execution_count": 24,
      "metadata": {
        "colab": {
          "base_uri": "https://localhost:8080/",
          "height": 263
        },
        "id": "LAB6o2MVA53N",
        "outputId": "c6805f09-9f98-4354-d854-aad97d2ce75e"
      },
      "outputs": [
        {
          "name": "stderr",
          "output_type": "stream",
          "text": [
            "Scraping detail pages:   0%|          | 0/513 [00:00<?, ?rows/s]"
          ]
        },
        {
          "name": "stdout",
          "output_type": "stream",
          "text": [
            "==================================================\n",
            "Sraping:  https://emma.msrb.org/MarketActivity/ContinuingDisclosureDetails/P21364921\n",
            "part one done\n",
            "Downloaded P21802482-P21383265-P21823263.pdf successfully.\n",
            "download_pdf done\n"
          ]
        },
        {
          "name": "stderr",
          "output_type": "stream",
          "text": [
            "Scraping detail pages:   0%|          | 1/513 [00:18<2:37:45, 18.49s/rows]"
          ]
        },
        {
          "name": "stdout",
          "output_type": "stream",
          "text": [
            "==================================================\n",
            "Sraping:  https://emma.msrb.org/MarketActivity/ContinuingDisclosureDetails/P21364924\n",
            "part one done\n",
            "Downloaded P21802487-P21383268-P21823267.pdf successfully.\n",
            "download_pdf done\n"
          ]
        },
        {
          "ename": "KeyboardInterrupt",
          "evalue": "",
          "output_type": "error",
          "traceback": [
            "\u001b[0;31m---------------------------------------------------------------------------\u001b[0m",
            "\u001b[0;31mKeyboardInterrupt\u001b[0m                         Traceback (most recent call last)",
            "Cell \u001b[0;32mIn[24], line 5\u001b[0m\n\u001b[1;32m      2\u001b[0m driver \u001b[38;5;241m=\u001b[39m setup_driver()\n\u001b[1;32m      4\u001b[0m \u001b[38;5;66;03m# Use the function to scrape details from the CSV\u001b[39;00m\n\u001b[0;32m----> 5\u001b[0m detail_df \u001b[38;5;241m=\u001b[39m scrape_detail_pages_from_csv(\u001b[38;5;124m'\u001b[39m\u001b[38;5;124mresults_2024-04-24_2024-04-24.csv\u001b[39m\u001b[38;5;124m'\u001b[39m)\n\u001b[1;32m      6\u001b[0m \u001b[38;5;28mprint\u001b[39m(detail_df)\n",
            "Cell \u001b[0;32mIn[20], line 159\u001b[0m, in \u001b[0;36mscrape_detail_pages_from_csv\u001b[0;34m(file_path)\u001b[0m\n\u001b[1;32m    157\u001b[0m \u001b[38;5;28mprint\u001b[39m(\u001b[38;5;124m'\u001b[39m\u001b[38;5;124m=\u001b[39m\u001b[38;5;124m'\u001b[39m\u001b[38;5;241m*\u001b[39m\u001b[38;5;241m50\u001b[39m)\n\u001b[1;32m    158\u001b[0m \u001b[38;5;28mprint\u001b[39m(\u001b[38;5;124m'\u001b[39m\u001b[38;5;124mSraping: \u001b[39m\u001b[38;5;124m'\u001b[39m,link)\n\u001b[0;32m--> 159\u001b[0m detail_info \u001b[38;5;241m=\u001b[39m scrape_detail_page(link)\n\u001b[1;32m    160\u001b[0m \u001b[38;5;28;01mif\u001b[39;00m detail_info:\n\u001b[1;32m    161\u001b[0m     detail_data\u001b[38;5;241m.\u001b[39mappend(detail_info)\n",
            "Cell \u001b[0;32mIn[20], line 131\u001b[0m, in \u001b[0;36mscrape_detail_page\u001b[0;34m(link)\u001b[0m\n\u001b[1;32m    129\u001b[0m cusip_img \u001b[38;5;241m=\u001b[39m driver\u001b[38;5;241m.\u001b[39mfind_element(By\u001b[38;5;241m.\u001b[39mXPATH, \u001b[38;5;124m\"\u001b[39m\u001b[38;5;124m//td/a/img[@data-cusip]\u001b[39m\u001b[38;5;124m\"\u001b[39m)\n\u001b[1;32m    130\u001b[0m img_url \u001b[38;5;241m=\u001b[39m cusip_img\u001b[38;5;241m.\u001b[39mget_attribute(\u001b[38;5;124m'\u001b[39m\u001b[38;5;124msrc\u001b[39m\u001b[38;5;124m'\u001b[39m)\n\u001b[0;32m--> 131\u001b[0m cusip_text \u001b[38;5;241m=\u001b[39m get_cusip_text(img_url)\n\u001b[1;32m    133\u001b[0m \u001b[38;5;66;03m# print(cusip_text)\u001b[39;00m\n\u001b[1;32m    134\u001b[0m \u001b[38;5;28;01mreturn\u001b[39;00m {\n\u001b[1;32m    135\u001b[0m     \u001b[38;5;124m'\u001b[39m\u001b[38;5;124mfiling_type\u001b[39m\u001b[38;5;124m'\u001b[39m: filing_type,\n\u001b[1;32m    136\u001b[0m     \u001b[38;5;124m'\u001b[39m\u001b[38;5;124mdisclosure_details\u001b[39m\u001b[38;5;124m'\u001b[39m: disclosure_details,\n\u001b[0;32m   (...)\u001b[0m\n\u001b[1;32m    140\u001b[0m     \u001b[38;5;124m'\u001b[39m\u001b[38;5;124mcusip_text\u001b[39m\u001b[38;5;124m'\u001b[39m: cusip_text\n\u001b[1;32m    141\u001b[0m }\n",
            "Cell \u001b[0;32mIn[20], line 33\u001b[0m, in \u001b[0;36mget_cusip_text\u001b[0;34m(img_url)\u001b[0m\n\u001b[1;32m     27\u001b[0m \u001b[38;5;28;01mdef\u001b[39;00m \u001b[38;5;21mget_cusip_text\u001b[39m(img_url):\n\u001b[1;32m     28\u001b[0m     headers \u001b[38;5;241m=\u001b[39m {\n\u001b[1;32m     29\u001b[0m         \u001b[38;5;124m'\u001b[39m\u001b[38;5;124mUser-Agent\u001b[39m\u001b[38;5;124m'\u001b[39m: \u001b[38;5;124m'\u001b[39m\u001b[38;5;124mMozilla/5.0 (Windows NT 10.0; Win64; x64) AppleWebKit/537.36 (KHTML, like Gecko) Chrome/91.0.4472.124 Safari/537.36\u001b[39m\u001b[38;5;124m'\u001b[39m,\n\u001b[1;32m     30\u001b[0m         \u001b[38;5;124m'\u001b[39m\u001b[38;5;124mAccept\u001b[39m\u001b[38;5;124m'\u001b[39m: \u001b[38;5;124m'\u001b[39m\u001b[38;5;124mapplication/pdf\u001b[39m\u001b[38;5;124m'\u001b[39m,\n\u001b[1;32m     31\u001b[0m         \u001b[38;5;124m'\u001b[39m\u001b[38;5;124mReferer\u001b[39m\u001b[38;5;124m'\u001b[39m: \u001b[38;5;124m'\u001b[39m\u001b[38;5;124mhttps://emma.msrb.org/\u001b[39m\u001b[38;5;124m'\u001b[39m \n\u001b[1;32m     32\u001b[0m     }\n\u001b[0;32m---> 33\u001b[0m     img_response \u001b[38;5;241m=\u001b[39m requests\u001b[38;5;241m.\u001b[39mget(img_url, headers\u001b[38;5;241m=\u001b[39mheaders, stream\u001b[38;5;241m=\u001b[39m\u001b[38;5;28;01mTrue\u001b[39;00m)\n\u001b[1;32m     34\u001b[0m     img \u001b[38;5;241m=\u001b[39m Image\u001b[38;5;241m.\u001b[39mopen(BytesIO(img_response\u001b[38;5;241m.\u001b[39mcontent))\n\u001b[1;32m     35\u001b[0m     cusip_text \u001b[38;5;241m=\u001b[39m pytesseract\u001b[38;5;241m.\u001b[39mimage_to_string(img, config\u001b[38;5;241m=\u001b[39m\u001b[38;5;124m'\u001b[39m\u001b[38;5;124m--psm 7\u001b[39m\u001b[38;5;124m'\u001b[39m)\u001b[38;5;241m.\u001b[39mstrip()\n",
            "File \u001b[0;32m~/anaconda3/lib/python3.11/site-packages/requests/api.py:73\u001b[0m, in \u001b[0;36mget\u001b[0;34m(url, params, **kwargs)\u001b[0m\n\u001b[1;32m     62\u001b[0m \u001b[38;5;28;01mdef\u001b[39;00m \u001b[38;5;21mget\u001b[39m(url, params\u001b[38;5;241m=\u001b[39m\u001b[38;5;28;01mNone\u001b[39;00m, \u001b[38;5;241m*\u001b[39m\u001b[38;5;241m*\u001b[39mkwargs):\n\u001b[1;32m     63\u001b[0m \u001b[38;5;250m    \u001b[39m\u001b[38;5;124mr\u001b[39m\u001b[38;5;124;03m\"\"\"Sends a GET request.\u001b[39;00m\n\u001b[1;32m     64\u001b[0m \n\u001b[1;32m     65\u001b[0m \u001b[38;5;124;03m    :param url: URL for the new :class:`Request` object.\u001b[39;00m\n\u001b[0;32m   (...)\u001b[0m\n\u001b[1;32m     70\u001b[0m \u001b[38;5;124;03m    :rtype: requests.Response\u001b[39;00m\n\u001b[1;32m     71\u001b[0m \u001b[38;5;124;03m    \"\"\"\u001b[39;00m\n\u001b[0;32m---> 73\u001b[0m     \u001b[38;5;28;01mreturn\u001b[39;00m request(\u001b[38;5;124m\"\u001b[39m\u001b[38;5;124mget\u001b[39m\u001b[38;5;124m\"\u001b[39m, url, params\u001b[38;5;241m=\u001b[39mparams, \u001b[38;5;241m*\u001b[39m\u001b[38;5;241m*\u001b[39mkwargs)\n",
            "File \u001b[0;32m~/anaconda3/lib/python3.11/site-packages/requests/api.py:59\u001b[0m, in \u001b[0;36mrequest\u001b[0;34m(method, url, **kwargs)\u001b[0m\n\u001b[1;32m     55\u001b[0m \u001b[38;5;66;03m# By using the 'with' statement we are sure the session is closed, thus we\u001b[39;00m\n\u001b[1;32m     56\u001b[0m \u001b[38;5;66;03m# avoid leaving sockets open which can trigger a ResourceWarning in some\u001b[39;00m\n\u001b[1;32m     57\u001b[0m \u001b[38;5;66;03m# cases, and look like a memory leak in others.\u001b[39;00m\n\u001b[1;32m     58\u001b[0m \u001b[38;5;28;01mwith\u001b[39;00m sessions\u001b[38;5;241m.\u001b[39mSession() \u001b[38;5;28;01mas\u001b[39;00m session:\n\u001b[0;32m---> 59\u001b[0m     \u001b[38;5;28;01mreturn\u001b[39;00m session\u001b[38;5;241m.\u001b[39mrequest(method\u001b[38;5;241m=\u001b[39mmethod, url\u001b[38;5;241m=\u001b[39murl, \u001b[38;5;241m*\u001b[39m\u001b[38;5;241m*\u001b[39mkwargs)\n",
            "File \u001b[0;32m~/anaconda3/lib/python3.11/site-packages/requests/sessions.py:589\u001b[0m, in \u001b[0;36mSession.request\u001b[0;34m(self, method, url, params, data, headers, cookies, files, auth, timeout, allow_redirects, proxies, hooks, stream, verify, cert, json)\u001b[0m\n\u001b[1;32m    584\u001b[0m send_kwargs \u001b[38;5;241m=\u001b[39m {\n\u001b[1;32m    585\u001b[0m     \u001b[38;5;124m\"\u001b[39m\u001b[38;5;124mtimeout\u001b[39m\u001b[38;5;124m\"\u001b[39m: timeout,\n\u001b[1;32m    586\u001b[0m     \u001b[38;5;124m\"\u001b[39m\u001b[38;5;124mallow_redirects\u001b[39m\u001b[38;5;124m\"\u001b[39m: allow_redirects,\n\u001b[1;32m    587\u001b[0m }\n\u001b[1;32m    588\u001b[0m send_kwargs\u001b[38;5;241m.\u001b[39mupdate(settings)\n\u001b[0;32m--> 589\u001b[0m resp \u001b[38;5;241m=\u001b[39m \u001b[38;5;28mself\u001b[39m\u001b[38;5;241m.\u001b[39msend(prep, \u001b[38;5;241m*\u001b[39m\u001b[38;5;241m*\u001b[39msend_kwargs)\n\u001b[1;32m    591\u001b[0m \u001b[38;5;28;01mreturn\u001b[39;00m resp\n",
            "File \u001b[0;32m~/anaconda3/lib/python3.11/site-packages/requests/sessions.py:703\u001b[0m, in \u001b[0;36mSession.send\u001b[0;34m(self, request, **kwargs)\u001b[0m\n\u001b[1;32m    700\u001b[0m start \u001b[38;5;241m=\u001b[39m preferred_clock()\n\u001b[1;32m    702\u001b[0m \u001b[38;5;66;03m# Send the request\u001b[39;00m\n\u001b[0;32m--> 703\u001b[0m r \u001b[38;5;241m=\u001b[39m adapter\u001b[38;5;241m.\u001b[39msend(request, \u001b[38;5;241m*\u001b[39m\u001b[38;5;241m*\u001b[39mkwargs)\n\u001b[1;32m    705\u001b[0m \u001b[38;5;66;03m# Total elapsed time of the request (approximately)\u001b[39;00m\n\u001b[1;32m    706\u001b[0m elapsed \u001b[38;5;241m=\u001b[39m preferred_clock() \u001b[38;5;241m-\u001b[39m start\n",
            "File \u001b[0;32m~/anaconda3/lib/python3.11/site-packages/requests/adapters.py:486\u001b[0m, in \u001b[0;36mHTTPAdapter.send\u001b[0;34m(self, request, stream, timeout, verify, cert, proxies)\u001b[0m\n\u001b[1;32m    483\u001b[0m     timeout \u001b[38;5;241m=\u001b[39m TimeoutSauce(connect\u001b[38;5;241m=\u001b[39mtimeout, read\u001b[38;5;241m=\u001b[39mtimeout)\n\u001b[1;32m    485\u001b[0m \u001b[38;5;28;01mtry\u001b[39;00m:\n\u001b[0;32m--> 486\u001b[0m     resp \u001b[38;5;241m=\u001b[39m conn\u001b[38;5;241m.\u001b[39murlopen(\n\u001b[1;32m    487\u001b[0m         method\u001b[38;5;241m=\u001b[39mrequest\u001b[38;5;241m.\u001b[39mmethod,\n\u001b[1;32m    488\u001b[0m         url\u001b[38;5;241m=\u001b[39murl,\n\u001b[1;32m    489\u001b[0m         body\u001b[38;5;241m=\u001b[39mrequest\u001b[38;5;241m.\u001b[39mbody,\n\u001b[1;32m    490\u001b[0m         headers\u001b[38;5;241m=\u001b[39mrequest\u001b[38;5;241m.\u001b[39mheaders,\n\u001b[1;32m    491\u001b[0m         redirect\u001b[38;5;241m=\u001b[39m\u001b[38;5;28;01mFalse\u001b[39;00m,\n\u001b[1;32m    492\u001b[0m         assert_same_host\u001b[38;5;241m=\u001b[39m\u001b[38;5;28;01mFalse\u001b[39;00m,\n\u001b[1;32m    493\u001b[0m         preload_content\u001b[38;5;241m=\u001b[39m\u001b[38;5;28;01mFalse\u001b[39;00m,\n\u001b[1;32m    494\u001b[0m         decode_content\u001b[38;5;241m=\u001b[39m\u001b[38;5;28;01mFalse\u001b[39;00m,\n\u001b[1;32m    495\u001b[0m         retries\u001b[38;5;241m=\u001b[39m\u001b[38;5;28mself\u001b[39m\u001b[38;5;241m.\u001b[39mmax_retries,\n\u001b[1;32m    496\u001b[0m         timeout\u001b[38;5;241m=\u001b[39mtimeout,\n\u001b[1;32m    497\u001b[0m         chunked\u001b[38;5;241m=\u001b[39mchunked,\n\u001b[1;32m    498\u001b[0m     )\n\u001b[1;32m    500\u001b[0m \u001b[38;5;28;01mexcept\u001b[39;00m (ProtocolError, \u001b[38;5;167;01mOSError\u001b[39;00m) \u001b[38;5;28;01mas\u001b[39;00m err:\n\u001b[1;32m    501\u001b[0m     \u001b[38;5;28;01mraise\u001b[39;00m \u001b[38;5;167;01mConnectionError\u001b[39;00m(err, request\u001b[38;5;241m=\u001b[39mrequest)\n",
            "File \u001b[0;32m~/anaconda3/lib/python3.11/site-packages/urllib3/connectionpool.py:714\u001b[0m, in \u001b[0;36mHTTPConnectionPool.urlopen\u001b[0;34m(self, method, url, body, headers, retries, redirect, assert_same_host, timeout, pool_timeout, release_conn, chunked, body_pos, **response_kw)\u001b[0m\n\u001b[1;32m    711\u001b[0m     \u001b[38;5;28mself\u001b[39m\u001b[38;5;241m.\u001b[39m_prepare_proxy(conn)\n\u001b[1;32m    713\u001b[0m \u001b[38;5;66;03m# Make the request on the httplib connection object.\u001b[39;00m\n\u001b[0;32m--> 714\u001b[0m httplib_response \u001b[38;5;241m=\u001b[39m \u001b[38;5;28mself\u001b[39m\u001b[38;5;241m.\u001b[39m_make_request(\n\u001b[1;32m    715\u001b[0m     conn,\n\u001b[1;32m    716\u001b[0m     method,\n\u001b[1;32m    717\u001b[0m     url,\n\u001b[1;32m    718\u001b[0m     timeout\u001b[38;5;241m=\u001b[39mtimeout_obj,\n\u001b[1;32m    719\u001b[0m     body\u001b[38;5;241m=\u001b[39mbody,\n\u001b[1;32m    720\u001b[0m     headers\u001b[38;5;241m=\u001b[39mheaders,\n\u001b[1;32m    721\u001b[0m     chunked\u001b[38;5;241m=\u001b[39mchunked,\n\u001b[1;32m    722\u001b[0m )\n\u001b[1;32m    724\u001b[0m \u001b[38;5;66;03m# If we're going to release the connection in ``finally:``, then\u001b[39;00m\n\u001b[1;32m    725\u001b[0m \u001b[38;5;66;03m# the response doesn't need to know about the connection. Otherwise\u001b[39;00m\n\u001b[1;32m    726\u001b[0m \u001b[38;5;66;03m# it will also try to release it and we'll have a double-release\u001b[39;00m\n\u001b[1;32m    727\u001b[0m \u001b[38;5;66;03m# mess.\u001b[39;00m\n\u001b[1;32m    728\u001b[0m response_conn \u001b[38;5;241m=\u001b[39m conn \u001b[38;5;28;01mif\u001b[39;00m \u001b[38;5;129;01mnot\u001b[39;00m release_conn \u001b[38;5;28;01melse\u001b[39;00m \u001b[38;5;28;01mNone\u001b[39;00m\n",
            "File \u001b[0;32m~/anaconda3/lib/python3.11/site-packages/urllib3/connectionpool.py:403\u001b[0m, in \u001b[0;36mHTTPConnectionPool._make_request\u001b[0;34m(self, conn, method, url, timeout, chunked, **httplib_request_kw)\u001b[0m\n\u001b[1;32m    401\u001b[0m \u001b[38;5;66;03m# Trigger any extra validation we need to do.\u001b[39;00m\n\u001b[1;32m    402\u001b[0m \u001b[38;5;28;01mtry\u001b[39;00m:\n\u001b[0;32m--> 403\u001b[0m     \u001b[38;5;28mself\u001b[39m\u001b[38;5;241m.\u001b[39m_validate_conn(conn)\n\u001b[1;32m    404\u001b[0m \u001b[38;5;28;01mexcept\u001b[39;00m (SocketTimeout, BaseSSLError) \u001b[38;5;28;01mas\u001b[39;00m e:\n\u001b[1;32m    405\u001b[0m     \u001b[38;5;66;03m# Py2 raises this as a BaseSSLError, Py3 raises it as socket timeout.\u001b[39;00m\n\u001b[1;32m    406\u001b[0m     \u001b[38;5;28mself\u001b[39m\u001b[38;5;241m.\u001b[39m_raise_timeout(err\u001b[38;5;241m=\u001b[39me, url\u001b[38;5;241m=\u001b[39murl, timeout_value\u001b[38;5;241m=\u001b[39mconn\u001b[38;5;241m.\u001b[39mtimeout)\n",
            "File \u001b[0;32m~/anaconda3/lib/python3.11/site-packages/urllib3/connectionpool.py:1053\u001b[0m, in \u001b[0;36mHTTPSConnectionPool._validate_conn\u001b[0;34m(self, conn)\u001b[0m\n\u001b[1;32m   1051\u001b[0m \u001b[38;5;66;03m# Force connect early to allow us to validate the connection.\u001b[39;00m\n\u001b[1;32m   1052\u001b[0m \u001b[38;5;28;01mif\u001b[39;00m \u001b[38;5;129;01mnot\u001b[39;00m \u001b[38;5;28mgetattr\u001b[39m(conn, \u001b[38;5;124m\"\u001b[39m\u001b[38;5;124msock\u001b[39m\u001b[38;5;124m\"\u001b[39m, \u001b[38;5;28;01mNone\u001b[39;00m):  \u001b[38;5;66;03m# AppEngine might not have  `.sock`\u001b[39;00m\n\u001b[0;32m-> 1053\u001b[0m     conn\u001b[38;5;241m.\u001b[39mconnect()\n\u001b[1;32m   1055\u001b[0m \u001b[38;5;28;01mif\u001b[39;00m \u001b[38;5;129;01mnot\u001b[39;00m conn\u001b[38;5;241m.\u001b[39mis_verified:\n\u001b[1;32m   1056\u001b[0m     warnings\u001b[38;5;241m.\u001b[39mwarn(\n\u001b[1;32m   1057\u001b[0m         (\n\u001b[1;32m   1058\u001b[0m             \u001b[38;5;124m\"\u001b[39m\u001b[38;5;124mUnverified HTTPS request is being made to host \u001b[39m\u001b[38;5;124m'\u001b[39m\u001b[38;5;132;01m%s\u001b[39;00m\u001b[38;5;124m'\u001b[39m\u001b[38;5;124m. \u001b[39m\u001b[38;5;124m\"\u001b[39m\n\u001b[0;32m   (...)\u001b[0m\n\u001b[1;32m   1063\u001b[0m         InsecureRequestWarning,\n\u001b[1;32m   1064\u001b[0m     )\n",
            "File \u001b[0;32m~/anaconda3/lib/python3.11/site-packages/urllib3/connection.py:363\u001b[0m, in \u001b[0;36mHTTPSConnection.connect\u001b[0;34m(self)\u001b[0m\n\u001b[1;32m    361\u001b[0m \u001b[38;5;28;01mdef\u001b[39;00m \u001b[38;5;21mconnect\u001b[39m(\u001b[38;5;28mself\u001b[39m):\n\u001b[1;32m    362\u001b[0m     \u001b[38;5;66;03m# Add certificate verification\u001b[39;00m\n\u001b[0;32m--> 363\u001b[0m     \u001b[38;5;28mself\u001b[39m\u001b[38;5;241m.\u001b[39msock \u001b[38;5;241m=\u001b[39m conn \u001b[38;5;241m=\u001b[39m \u001b[38;5;28mself\u001b[39m\u001b[38;5;241m.\u001b[39m_new_conn()\n\u001b[1;32m    364\u001b[0m     hostname \u001b[38;5;241m=\u001b[39m \u001b[38;5;28mself\u001b[39m\u001b[38;5;241m.\u001b[39mhost\n\u001b[1;32m    365\u001b[0m     tls_in_tls \u001b[38;5;241m=\u001b[39m \u001b[38;5;28;01mFalse\u001b[39;00m\n",
            "File \u001b[0;32m~/anaconda3/lib/python3.11/site-packages/urllib3/connection.py:174\u001b[0m, in \u001b[0;36mHTTPConnection._new_conn\u001b[0;34m(self)\u001b[0m\n\u001b[1;32m    171\u001b[0m     extra_kw[\u001b[38;5;124m\"\u001b[39m\u001b[38;5;124msocket_options\u001b[39m\u001b[38;5;124m\"\u001b[39m] \u001b[38;5;241m=\u001b[39m \u001b[38;5;28mself\u001b[39m\u001b[38;5;241m.\u001b[39msocket_options\n\u001b[1;32m    173\u001b[0m \u001b[38;5;28;01mtry\u001b[39;00m:\n\u001b[0;32m--> 174\u001b[0m     conn \u001b[38;5;241m=\u001b[39m connection\u001b[38;5;241m.\u001b[39mcreate_connection(\n\u001b[1;32m    175\u001b[0m         (\u001b[38;5;28mself\u001b[39m\u001b[38;5;241m.\u001b[39m_dns_host, \u001b[38;5;28mself\u001b[39m\u001b[38;5;241m.\u001b[39mport), \u001b[38;5;28mself\u001b[39m\u001b[38;5;241m.\u001b[39mtimeout, \u001b[38;5;241m*\u001b[39m\u001b[38;5;241m*\u001b[39mextra_kw\n\u001b[1;32m    176\u001b[0m     )\n\u001b[1;32m    178\u001b[0m \u001b[38;5;28;01mexcept\u001b[39;00m SocketTimeout:\n\u001b[1;32m    179\u001b[0m     \u001b[38;5;28;01mraise\u001b[39;00m ConnectTimeoutError(\n\u001b[1;32m    180\u001b[0m         \u001b[38;5;28mself\u001b[39m,\n\u001b[1;32m    181\u001b[0m         \u001b[38;5;124m\"\u001b[39m\u001b[38;5;124mConnection to \u001b[39m\u001b[38;5;132;01m%s\u001b[39;00m\u001b[38;5;124m timed out. (connect timeout=\u001b[39m\u001b[38;5;132;01m%s\u001b[39;00m\u001b[38;5;124m)\u001b[39m\u001b[38;5;124m\"\u001b[39m\n\u001b[1;32m    182\u001b[0m         \u001b[38;5;241m%\u001b[39m (\u001b[38;5;28mself\u001b[39m\u001b[38;5;241m.\u001b[39mhost, \u001b[38;5;28mself\u001b[39m\u001b[38;5;241m.\u001b[39mtimeout),\n\u001b[1;32m    183\u001b[0m     )\n",
            "File \u001b[0;32m~/anaconda3/lib/python3.11/site-packages/urllib3/util/connection.py:85\u001b[0m, in \u001b[0;36mcreate_connection\u001b[0;34m(address, timeout, source_address, socket_options)\u001b[0m\n\u001b[1;32m     83\u001b[0m     \u001b[38;5;28;01mif\u001b[39;00m source_address:\n\u001b[1;32m     84\u001b[0m         sock\u001b[38;5;241m.\u001b[39mbind(source_address)\n\u001b[0;32m---> 85\u001b[0m     sock\u001b[38;5;241m.\u001b[39mconnect(sa)\n\u001b[1;32m     86\u001b[0m     \u001b[38;5;28;01mreturn\u001b[39;00m sock\n\u001b[1;32m     88\u001b[0m \u001b[38;5;28;01mexcept\u001b[39;00m socket\u001b[38;5;241m.\u001b[39merror \u001b[38;5;28;01mas\u001b[39;00m e:\n",
            "\u001b[0;31mKeyboardInterrupt\u001b[0m: "
          ]
        }
      ],
      "source": [
        "# Initialize the WebDriver\n",
        "driver = setup_driver()\n",
        "\n",
        "# Use the function to scrape details from the CSV\n",
        "detail_df = scrape_detail_pages_from_csv('results_2024-04-24_2024-04-24.csv')\n",
        "print(detail_df)\n"
      ]
    },
    {
      "cell_type": "code",
      "execution_count": 32,
      "metadata": {},
      "outputs": [
        {
          "name": "stdout",
          "output_type": "stream",
          "text": [
            "ten\n",
            "get link\n"
          ]
        },
        {
          "ename": "KeyboardInterrupt",
          "evalue": "",
          "output_type": "error",
          "traceback": [
            "\u001b[0;31m---------------------------------------------------------------------------\u001b[0m",
            "\u001b[0;31mKeyboardInterrupt\u001b[0m                         Traceback (most recent call last)",
            "Cell \u001b[0;32mIn[32], line 2\u001b[0m\n\u001b[1;32m      1\u001b[0m driver \u001b[38;5;241m=\u001b[39m setup_driver()\n\u001b[0;32m----> 2\u001b[0m scrape_detail_page(\u001b[38;5;124m'\u001b[39m\u001b[38;5;124mhttps://emma.msrb.org/MarketActivity/ContinuingDisclosureDetails/P21364921\u001b[39m\u001b[38;5;124m'\u001b[39m)\n\u001b[1;32m      3\u001b[0m driver\u001b[38;5;241m.\u001b[39mquit()\n",
            "Cell \u001b[0;32mIn[30], line 59\u001b[0m, in \u001b[0;36mscrape_detail_page\u001b[0;34m(link)\u001b[0m\n\u001b[1;32m     57\u001b[0m ActionChains(driver)\u001b[38;5;241m.\u001b[39mmove_to_element(body)\u001b[38;5;241m.\u001b[39mclick()\u001b[38;5;241m.\u001b[39mperform()\n\u001b[1;32m     58\u001b[0m \u001b[38;5;66;03m# print('clicked')\u001b[39;00m\n\u001b[0;32m---> 59\u001b[0m random_sleep(\u001b[38;5;241m2\u001b[39m, \u001b[38;5;241m4\u001b[39m)\n\u001b[1;32m     60\u001b[0m \u001b[38;5;66;03m# Scrape the required information\u001b[39;00m\n\u001b[1;32m     62\u001b[0m \u001b[38;5;250m\u001b[39m\u001b[38;5;124;03m'''\u001b[39;00m\n\u001b[1;32m     63\u001b[0m \u001b[38;5;124;03mPart one\u001b[39;00m\n\u001b[1;32m     64\u001b[0m \u001b[38;5;124;03m'''\u001b[39;00m\n",
            "Cell \u001b[0;32mIn[5], line 3\u001b[0m, in \u001b[0;36mrandom_sleep\u001b[0;34m(min_seconds, max_seconds)\u001b[0m\n\u001b[1;32m      2\u001b[0m \u001b[38;5;28;01mdef\u001b[39;00m \u001b[38;5;21mrandom_sleep\u001b[39m(min_seconds, max_seconds):\n\u001b[0;32m----> 3\u001b[0m     sleep(random\u001b[38;5;241m.\u001b[39muniform(min_seconds, max_seconds))\n",
            "\u001b[0;31mKeyboardInterrupt\u001b[0m: "
          ]
        }
      ],
      "source": [
        "# debug\n",
        "driver = setup_driver()\n",
        "scrape_detail_page('https://emma.msrb.org/MarketActivity/ContinuingDisclosureDetails/P21364921')\n",
        "driver.quit()"
      ]
    },
    {
      "cell_type": "code",
      "execution_count": 139,
      "metadata": {},
      "outputs": [],
      "source": [
        "detail_df.to_csv('test.csv', index=False)\n"
      ]
    },
    {
      "cell_type": "code",
      "execution_count": 17,
      "metadata": {},
      "outputs": [
        {
          "name": "stdout",
          "output_type": "stream",
          "text": [
            "terms_of_use found\n",
            "term_of_use handled\n",
            "find body\n",
            "clicked\n",
            "Downloaded P21802487-P21383268-P21823267.pdf successfully.\n",
            "download_pdf done\n"
          ]
        }
      ],
      "source": [
        "driver = setup_driver()\n",
        "scrape_detail_page('https://emma.msrb.org/MarketActivity/ContinuingDisclosureDetails/P21364924')\n",
        "driver.quit()"
      ]
    },
    {
      "cell_type": "markdown",
      "metadata": {
        "id": "nRIM4gK4_W6d"
      },
      "source": []
    }
  ],
  "metadata": {
    "colab": {
      "provenance": []
    },
    "kernelspec": {
      "display_name": "Python 3",
      "name": "python3"
    },
    "language_info": {
      "codemirror_mode": {
        "name": "ipython",
        "version": 3
      },
      "file_extension": ".py",
      "mimetype": "text/x-python",
      "name": "python",
      "nbconvert_exporter": "python",
      "pygments_lexer": "ipython3",
      "version": "3.11.5"
    }
  },
  "nbformat": 4,
  "nbformat_minor": 0
}

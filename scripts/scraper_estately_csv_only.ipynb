{
 "cells": [
  {
   "cell_type": "code",
   "execution_count": 2,
   "metadata": {},
   "outputs": [
    {
     "data": {
      "text/html": [
       "<div>\n",
       "<style scoped>\n",
       "    .dataframe tbody tr th:only-of-type {\n",
       "        vertical-align: middle;\n",
       "    }\n",
       "\n",
       "    .dataframe tbody tr th {\n",
       "        vertical-align: top;\n",
       "    }\n",
       "\n",
       "    .dataframe thead th {\n",
       "        text-align: right;\n",
       "    }\n",
       "</style>\n",
       "<table border=\"1\" class=\"dataframe\">\n",
       "  <thead>\n",
       "    <tr style=\"text-align: right;\">\n",
       "      <th></th>\n",
       "      <th>Unnamed: 0.2</th>\n",
       "      <th>Unnamed: 0.1</th>\n",
       "      <th>Unnamed: 0</th>\n",
       "      <th>state_code</th>\n",
       "      <th>county_code</th>\n",
       "      <th>census_tract_number</th>\n",
       "      <th>as_of_year</th>\n",
       "      <th>loanN</th>\n",
       "      <th>population</th>\n",
       "      <th>GEOID</th>\n",
       "      <th>...</th>\n",
       "      <th>STUSPS</th>\n",
       "      <th>NAMELSADCO</th>\n",
       "      <th>STATE_NAME</th>\n",
       "      <th>LSAD</th>\n",
       "      <th>ALAND</th>\n",
       "      <th>AWATER</th>\n",
       "      <th>geometry</th>\n",
       "      <th>geometry_shape</th>\n",
       "      <th>area_sq_m</th>\n",
       "      <th>area_sq_km</th>\n",
       "    </tr>\n",
       "  </thead>\n",
       "  <tbody>\n",
       "    <tr>\n",
       "      <th>0</th>\n",
       "      <td>0</td>\n",
       "      <td>0</td>\n",
       "      <td>0</td>\n",
       "      <td>1</td>\n",
       "      <td>1</td>\n",
       "      <td>201.0</td>\n",
       "      <td>2017</td>\n",
       "      <td>30</td>\n",
       "      <td>1948</td>\n",
       "      <td>1001020100</td>\n",
       "      <td>...</td>\n",
       "      <td>AL</td>\n",
       "      <td>Autauga County</td>\n",
       "      <td>Alabama</td>\n",
       "      <td>CT</td>\n",
       "      <td>9825303</td>\n",
       "      <td>28435</td>\n",
       "      <td>POLYGON ((-86.51014 32.47243, -86.48826 32.505...</td>\n",
       "      <td>POLYGON ((-86.510144 32.472434, -86.488262 32....</td>\n",
       "      <td>1.196056e+07</td>\n",
       "      <td>11.960556</td>\n",
       "    </tr>\n",
       "    <tr>\n",
       "      <th>1</th>\n",
       "      <td>1</td>\n",
       "      <td>1</td>\n",
       "      <td>1</td>\n",
       "      <td>1</td>\n",
       "      <td>1</td>\n",
       "      <td>202.0</td>\n",
       "      <td>2017</td>\n",
       "      <td>34</td>\n",
       "      <td>2156</td>\n",
       "      <td>1001020200</td>\n",
       "      <td>...</td>\n",
       "      <td>AL</td>\n",
       "      <td>Autauga County</td>\n",
       "      <td>Alabama</td>\n",
       "      <td>CT</td>\n",
       "      <td>3320818</td>\n",
       "      <td>5669</td>\n",
       "      <td>POLYGON ((-86.47887 32.48934, -86.46731 32.489...</td>\n",
       "      <td>POLYGON ((-86.478867 32.489342, -86.46731 32.4...</td>\n",
       "      <td>3.965478e+06</td>\n",
       "      <td>3.965478</td>\n",
       "    </tr>\n",
       "    <tr>\n",
       "      <th>2</th>\n",
       "      <td>2</td>\n",
       "      <td>2</td>\n",
       "      <td>2</td>\n",
       "      <td>1</td>\n",
       "      <td>1</td>\n",
       "      <td>203.0</td>\n",
       "      <td>2017</td>\n",
       "      <td>78</td>\n",
       "      <td>2968</td>\n",
       "      <td>1001020300</td>\n",
       "      <td>...</td>\n",
       "      <td>AL</td>\n",
       "      <td>Autauga County</td>\n",
       "      <td>Alabama</td>\n",
       "      <td>CT</td>\n",
       "      <td>5349271</td>\n",
       "      <td>9054</td>\n",
       "      <td>POLYGON ((-86.47087 32.47554, -86.46731 32.489...</td>\n",
       "      <td>POLYGON ((-86.470868 32.475535, -86.46731 32.4...</td>\n",
       "      <td>6.825247e+06</td>\n",
       "      <td>6.825247</td>\n",
       "    </tr>\n",
       "    <tr>\n",
       "      <th>3</th>\n",
       "      <td>3</td>\n",
       "      <td>3</td>\n",
       "      <td>3</td>\n",
       "      <td>1</td>\n",
       "      <td>1</td>\n",
       "      <td>204.0</td>\n",
       "      <td>2017</td>\n",
       "      <td>100</td>\n",
       "      <td>4423</td>\n",
       "      <td>1001020400</td>\n",
       "      <td>...</td>\n",
       "      <td>AL</td>\n",
       "      <td>Autauga County</td>\n",
       "      <td>Alabama</td>\n",
       "      <td>CT</td>\n",
       "      <td>6384282</td>\n",
       "      <td>8408</td>\n",
       "      <td>POLYGON ((-86.45369 32.49191, -86.44742 32.493...</td>\n",
       "      <td>POLYGON ((-86.453689 32.491906, -86.44742 32.4...</td>\n",
       "      <td>7.465518e+06</td>\n",
       "      <td>7.465518</td>\n",
       "    </tr>\n",
       "    <tr>\n",
       "      <th>4</th>\n",
       "      <td>4</td>\n",
       "      <td>4</td>\n",
       "      <td>4</td>\n",
       "      <td>1</td>\n",
       "      <td>1</td>\n",
       "      <td>206.0</td>\n",
       "      <td>2017</td>\n",
       "      <td>83</td>\n",
       "      <td>3851</td>\n",
       "      <td>1001020600</td>\n",
       "      <td>...</td>\n",
       "      <td>AL</td>\n",
       "      <td>Autauga County</td>\n",
       "      <td>Alabama</td>\n",
       "      <td>CT</td>\n",
       "      <td>8041698</td>\n",
       "      <td>59696</td>\n",
       "      <td>POLYGON ((-86.48868 32.44973, -86.48188 32.463...</td>\n",
       "      <td>POLYGON ((-86.488683 32.449727, -86.48188 32.4...</td>\n",
       "      <td>1.131248e+07</td>\n",
       "      <td>11.312476</td>\n",
       "    </tr>\n",
       "  </tbody>\n",
       "</table>\n",
       "<p>5 rows × 28 columns</p>\n",
       "</div>"
      ],
      "text/plain": [
       "   Unnamed: 0.2  Unnamed: 0.1  Unnamed: 0  state_code  county_code  \\\n",
       "0             0             0           0           1            1   \n",
       "1             1             1           1           1            1   \n",
       "2             2             2           2           1            1   \n",
       "3             3             3           3           1            1   \n",
       "4             4             4           4           1            1   \n",
       "\n",
       "   census_tract_number  as_of_year  loanN  population       GEOID  ...  \\\n",
       "0                201.0        2017     30        1948  1001020100  ...   \n",
       "1                202.0        2017     34        2156  1001020200  ...   \n",
       "2                203.0        2017     78        2968  1001020300  ...   \n",
       "3                204.0        2017    100        4423  1001020400  ...   \n",
       "4                206.0        2017     83        3851  1001020600  ...   \n",
       "\n",
       "   STUSPS      NAMELSADCO  STATE_NAME  LSAD    ALAND AWATER  \\\n",
       "0      AL  Autauga County     Alabama    CT  9825303  28435   \n",
       "1      AL  Autauga County     Alabama    CT  3320818   5669   \n",
       "2      AL  Autauga County     Alabama    CT  5349271   9054   \n",
       "3      AL  Autauga County     Alabama    CT  6384282   8408   \n",
       "4      AL  Autauga County     Alabama    CT  8041698  59696   \n",
       "\n",
       "                                            geometry  \\\n",
       "0  POLYGON ((-86.51014 32.47243, -86.48826 32.505...   \n",
       "1  POLYGON ((-86.47887 32.48934, -86.46731 32.489...   \n",
       "2  POLYGON ((-86.47087 32.47554, -86.46731 32.489...   \n",
       "3  POLYGON ((-86.45369 32.49191, -86.44742 32.493...   \n",
       "4  POLYGON ((-86.48868 32.44973, -86.48188 32.463...   \n",
       "\n",
       "                                      geometry_shape     area_sq_m area_sq_km  \n",
       "0  POLYGON ((-86.510144 32.472434, -86.488262 32....  1.196056e+07  11.960556  \n",
       "1  POLYGON ((-86.478867 32.489342, -86.46731 32.4...  3.965478e+06   3.965478  \n",
       "2  POLYGON ((-86.470868 32.475535, -86.46731 32.4...  6.825247e+06   6.825247  \n",
       "3  POLYGON ((-86.453689 32.491906, -86.44742 32.4...  7.465518e+06   7.465518  \n",
       "4  POLYGON ((-86.488683 32.449727, -86.48188 32.4...  1.131248e+07  11.312476  \n",
       "\n",
       "[5 rows x 28 columns]"
      ]
     },
     "execution_count": 2,
     "metadata": {},
     "output_type": "execute_result"
    }
   ],
   "source": [
    "import pandas as pd\n",
    "import geopandas as gpd\n",
    "from shapely import wkt\n",
    "import numpy as np\n",
    "import estately_function as ef\n",
    "\n",
    "# Load the tract data\n",
    "tract_data_path = 'tract_data_usa.csv'\n",
    "tract_data = pd.read_csv(tract_data_path)\n",
    "\n",
    "# Convert the 'geometry' column to shapely geometries\n",
    "tract_data['geometry'] = tract_data['geometry_shape'].apply(wkt.loads)\n",
    "tract_data = gpd.GeoDataFrame(tract_data, geometry='geometry')\n",
    "tract_data.head()\n"
   ]
  },
  {
   "cell_type": "code",
   "execution_count": 3,
   "metadata": {},
   "outputs": [
    {
     "data": {
      "text/html": [
       "<div>\n",
       "<style scoped>\n",
       "    .dataframe tbody tr th:only-of-type {\n",
       "        vertical-align: middle;\n",
       "    }\n",
       "\n",
       "    .dataframe tbody tr th {\n",
       "        vertical-align: top;\n",
       "    }\n",
       "\n",
       "    .dataframe thead th {\n",
       "        text-align: right;\n",
       "    }\n",
       "</style>\n",
       "<table border=\"1\" class=\"dataframe\">\n",
       "  <thead>\n",
       "    <tr style=\"text-align: right;\">\n",
       "      <th></th>\n",
       "      <th>Unnamed: 0.2</th>\n",
       "      <th>Unnamed: 0.1</th>\n",
       "      <th>Unnamed: 0</th>\n",
       "      <th>state_code</th>\n",
       "      <th>county_code</th>\n",
       "      <th>census_tract_number</th>\n",
       "      <th>as_of_year</th>\n",
       "      <th>loanN</th>\n",
       "      <th>population</th>\n",
       "      <th>GEOID</th>\n",
       "      <th>...</th>\n",
       "      <th>STUSPS</th>\n",
       "      <th>NAMELSADCO</th>\n",
       "      <th>STATE_NAME</th>\n",
       "      <th>LSAD</th>\n",
       "      <th>ALAND</th>\n",
       "      <th>AWATER</th>\n",
       "      <th>geometry</th>\n",
       "      <th>geometry_shape</th>\n",
       "      <th>area_sq_m</th>\n",
       "      <th>area_sq_km</th>\n",
       "    </tr>\n",
       "  </thead>\n",
       "  <tbody>\n",
       "    <tr>\n",
       "      <th>2952</th>\n",
       "      <td>3092</td>\n",
       "      <td>3092</td>\n",
       "      <td>3092</td>\n",
       "      <td>6</td>\n",
       "      <td>1</td>\n",
       "      <td>4419.21</td>\n",
       "      <td>2017</td>\n",
       "      <td>34</td>\n",
       "      <td>3767</td>\n",
       "      <td>6001441921</td>\n",
       "      <td>...</td>\n",
       "      <td>CA</td>\n",
       "      <td>Alameda County</td>\n",
       "      <td>California</td>\n",
       "      <td>CT</td>\n",
       "      <td>846804</td>\n",
       "      <td>0</td>\n",
       "      <td>POLYGON ((-121.97226 37.54912, -121.96060 37.5...</td>\n",
       "      <td>POLYGON ((-121.972262 37.549115, -121.960601 3...</td>\n",
       "      <td>8.175968e+05</td>\n",
       "      <td>0.817597</td>\n",
       "    </tr>\n",
       "    <tr>\n",
       "      <th>19670</th>\n",
       "      <td>19991</td>\n",
       "      <td>19991</td>\n",
       "      <td>19991</td>\n",
       "      <td>19</td>\n",
       "      <td>1</td>\n",
       "      <td>9603.00</td>\n",
       "      <td>2017</td>\n",
       "      <td>48</td>\n",
       "      <td>2994</td>\n",
       "      <td>19001960300</td>\n",
       "      <td>...</td>\n",
       "      <td>IA</td>\n",
       "      <td>Adair County</td>\n",
       "      <td>Iowa</td>\n",
       "      <td>CT</td>\n",
       "      <td>100416281</td>\n",
       "      <td>375146</td>\n",
       "      <td>POLYGON ((-94.58517 41.30202, -94.56614 41.298...</td>\n",
       "      <td>POLYGON ((-94.585166 41.302023, -94.566143 41....</td>\n",
       "      <td>1.110370e+08</td>\n",
       "      <td>111.037009</td>\n",
       "    </tr>\n",
       "  </tbody>\n",
       "</table>\n",
       "<p>2 rows × 28 columns</p>\n",
       "</div>"
      ],
      "text/plain": [
       "       Unnamed: 0.2  Unnamed: 0.1  Unnamed: 0  state_code  county_code  \\\n",
       "2952           3092          3092        3092           6            1   \n",
       "19670         19991         19991       19991          19            1   \n",
       "\n",
       "       census_tract_number  as_of_year  loanN  population        GEOID  ...  \\\n",
       "2952               4419.21        2017     34        3767   6001441921  ...   \n",
       "19670              9603.00        2017     48        2994  19001960300  ...   \n",
       "\n",
       "       STUSPS      NAMELSADCO  STATE_NAME  LSAD      ALAND  AWATER  \\\n",
       "2952       CA  Alameda County  California    CT     846804       0   \n",
       "19670      IA    Adair County        Iowa    CT  100416281  375146   \n",
       "\n",
       "                                                geometry  \\\n",
       "2952   POLYGON ((-121.97226 37.54912, -121.96060 37.5...   \n",
       "19670  POLYGON ((-94.58517 41.30202, -94.56614 41.298...   \n",
       "\n",
       "                                          geometry_shape     area_sq_m  \\\n",
       "2952   POLYGON ((-121.972262 37.549115, -121.960601 3...  8.175968e+05   \n",
       "19670  POLYGON ((-94.585166 41.302023, -94.566143 41....  1.110370e+08   \n",
       "\n",
       "       area_sq_km  \n",
       "2952     0.817597  \n",
       "19670  111.037009  \n",
       "\n",
       "[2 rows x 28 columns]"
      ]
     },
     "execution_count": 3,
     "metadata": {},
     "output_type": "execute_result"
    }
   ],
   "source": [
    "# randam sample 20 tracts\n",
    "np.random.seed(999)\n",
    "random_tract = tract_data.sample(2)\n",
    "\n",
    "random_tract"
   ]
  },
  {
   "cell_type": "code",
   "execution_count": 4,
   "metadata": {},
   "outputs": [
    {
     "name": "stderr",
     "output_type": "stream",
     "text": [
      ">> Scraping tracts: 0it [00:00, ?it/s]"
     ]
    },
    {
     "name": "stdout",
     "output_type": "stream",
     "text": [
      "==================================================\n",
      ">>> Scraping tract 6001441921, area: 0.818 sq km\n",
      ">>>> total:  1 grids\n"
     ]
    },
    {
     "data": {
      "image/png": "[encoded data removed]",
      "text/plain": [
       "<Figure size 640x480 with 1 Axes>"
      ]
     },
     "metadata": {},
     "output_type": "display_data"
    },
    {
     "name": "stdout",
     "output_type": "stream",
     "text": [
      "==================================================\n"
     ]
    },
    {
     "name": "stderr",
     "output_type": "stream",
     "text": []
    },
    {
     "name": "stdout",
     "output_type": "stream",
     "text": [
      "Scraping grid: 37.536,-121.973,37.556,-121.953\n",
      ">>>> scraping 37.536,-121.973,37.556,-121.953\n",
      "properties found:  100\n",
      "Scraped 50 images.\n",
      "Scraped 100 images.\n"
     ]
    },
    {
     "name": "stderr",
     "output_type": "stream",
     "text": [
      ">>> Scraping grids for tract 2952 : 100%|██████████| 1/1 [00:08<00:00,  8.04s/it]\n",
      ">> Scraping tracts: 1it [00:08,  8.18s/it]"
     ]
    },
    {
     "name": "stdout",
     "output_type": "stream",
     "text": [
      "Function 'recursive_grid_scraping' took 8.04 seconds to execute.\n",
      "Sold Scrapped\n",
      ">>>> tract 2952 part 1 cached\n",
      "No on-sales data for tract 6001441921\n",
      "Finished scraping tract 2952.\n",
      "==================================================\n",
      ">>> Scraping tract 19001960300, area: 111.037 sq km\n",
      ">>>> total:  37 grids\n"
     ]
    },
    {
     "data": {
      "image/png": "[encoded data removed]",
      "text/plain": [
       "<Figure size 640x480 with 1 Axes>"
      ]
     },
     "metadata": {},
     "output_type": "display_data"
    },
    {
     "name": "stdout",
     "output_type": "stream",
     "text": [
      "==================================================\n"
     ]
    },
    {
     "name": "stderr",
     "output_type": "stream",
     "text": []
    },
    {
     "name": "stdout",
     "output_type": "stream",
     "text": [
      "Scraping grid: 41.258,-94.585,41.278,-94.565\n"
     ]
    },
    {
     "name": "stderr",
     "output_type": "stream",
     "text": []
    },
    {
     "name": "stdout",
     "output_type": "stream",
     "text": [
      ">>>> scraping 41.258,-94.585,41.278,-94.565\n",
      "properties found:  0\n",
      "Function 'recursive_grid_scraping' took 7.16 seconds to execute.\n",
      "Sold Scrapped\n",
      "Scraping grid: 41.278,-94.585,41.298,-94.565\n"
     ]
    },
    {
     "name": "stderr",
     "output_type": "stream",
     "text": []
    },
    {
     "name": "stdout",
     "output_type": "stream",
     "text": [
      ">>>> scraping 41.278,-94.585,41.298,-94.565\n",
      "properties found:  0\n",
      "Function 'recursive_grid_scraping' took 7.13 seconds to execute.\n",
      "Sold Scrapped\n",
      "Scraping grid: 41.298,-94.585,41.318,-94.565\n"
     ]
    },
    {
     "name": "stderr",
     "output_type": "stream",
     "text": []
    },
    {
     "name": "stdout",
     "output_type": "stream",
     "text": [
      ">>>> scraping 41.298,-94.585,41.318,-94.565\n",
      "properties found:  0\n",
      "Function 'recursive_grid_scraping' took 6.34 seconds to execute.\n",
      "Sold Scrapped\n",
      "Scraping grid: 41.318,-94.585,41.338,-94.565\n"
     ]
    },
    {
     "name": "stderr",
     "output_type": "stream",
     "text": []
    },
    {
     "name": "stdout",
     "output_type": "stream",
     "text": [
      ">>>> scraping 41.318,-94.585,41.338,-94.565\n",
      "properties found:  0\n",
      "Function 'recursive_grid_scraping' took 7.18 seconds to execute.\n",
      "Sold Scrapped\n",
      "Scraping grid: 41.258,-94.565,41.278,-94.545\n"
     ]
    },
    {
     "name": "stderr",
     "output_type": "stream",
     "text": []
    },
    {
     "name": "stdout",
     "output_type": "stream",
     "text": [
      ">>>> scraping 41.258,-94.565,41.278,-94.545\n",
      "properties found:  0\n",
      "Function 'recursive_grid_scraping' took 7.09 seconds to execute.\n",
      "Sold Scrapped\n",
      "Scraping grid: 41.278,-94.565,41.298,-94.545\n"
     ]
    },
    {
     "name": "stderr",
     "output_type": "stream",
     "text": []
    },
    {
     "name": "stdout",
     "output_type": "stream",
     "text": [
      ">>>> scraping 41.278,-94.565,41.298,-94.545\n",
      "properties found:  0\n",
      "Function 'recursive_grid_scraping' took 7.11 seconds to execute.\n",
      "Sold Scrapped\n",
      "Scraping grid: 41.298,-94.565,41.318,-94.545\n"
     ]
    },
    {
     "name": "stderr",
     "output_type": "stream",
     "text": []
    },
    {
     "name": "stdout",
     "output_type": "stream",
     "text": [
      ">>>> scraping 41.298,-94.565,41.318,-94.545\n",
      "properties found:  0\n",
      "Function 'recursive_grid_scraping' took 7.16 seconds to execute.\n",
      "Sold Scrapped\n",
      "Scraping grid: 41.318,-94.565,41.338,-94.545\n"
     ]
    },
    {
     "name": "stderr",
     "output_type": "stream",
     "text": []
    },
    {
     "name": "stdout",
     "output_type": "stream",
     "text": [
      ">>>> scraping 41.318,-94.565,41.338,-94.545\n",
      "properties found:  0\n",
      "Function 'recursive_grid_scraping' took 7.16 seconds to execute.\n",
      "Sold Scrapped\n",
      "Scraping grid: 41.258,-94.545,41.278,-94.525\n"
     ]
    },
    {
     "name": "stderr",
     "output_type": "stream",
     "text": []
    },
    {
     "name": "stdout",
     "output_type": "stream",
     "text": [
      ">>>> scraping 41.258,-94.545,41.278,-94.525\n",
      "properties found:  0\n",
      "Function 'recursive_grid_scraping' took 7.06 seconds to execute.\n",
      "Sold Scrapped\n",
      "Scraping grid: 41.278,-94.545,41.298,-94.525\n"
     ]
    },
    {
     "name": "stderr",
     "output_type": "stream",
     "text": [
      ">>> Scraping grids for tract 19670 :  24%|██▍       | 9/37 [01:10<03:39,  7.83s/it]\n",
      ">> Scraping tracts: 1it [01:18, 78.84s/it]"
     ]
    },
    {
     "name": "stdout",
     "output_type": "stream",
     "text": [
      ">>>> scraping 41.278,-94.545,41.298,-94.525\n",
      "properties found:  0\n",
      "Function 'recursive_grid_scraping' took 7.11 seconds to execute.\n",
      "Sold Scrapped\n"
     ]
    },
    {
     "name": "stderr",
     "output_type": "stream",
     "text": [
      "\n"
     ]
    },
    {
     "ename": "ValueError",
     "evalue": "No objects to concatenate",
     "output_type": "error",
     "traceback": [
      "\u001b[0;31m---------------------------------------------------------------------------\u001b[0m",
      "\u001b[0;31mValueError\u001b[0m                                Traceback (most recent call last)",
      "Cell \u001b[0;32mIn[4], line 5\u001b[0m\n\u001b[1;32m      2\u001b[0m step \u001b[38;5;241m=\u001b[39m \u001b[38;5;241m0.02\u001b[39m\n\u001b[1;32m      4\u001b[0m \u001b[38;5;66;03m# Run the main function for census tracts\u001b[39;00m\n\u001b[0;32m----> 5\u001b[0m ef\u001b[38;5;241m.\u001b[39mmain_for_census_tract(random_tract, step)\n",
      "File \u001b[0;32m~/Documents/GitHub/RA-for-Accounting/scripts/estately_function.py:301\u001b[0m, in \u001b[0;36mmain_for_census_tract\u001b[0;34m(tract_data, step)\u001b[0m\n\u001b[1;32m    299\u001b[0m \u001b[38;5;28;01mif\u001b[39;00m (i \u001b[38;5;241m+\u001b[39m \u001b[38;5;241m1\u001b[39m) \u001b[38;5;241m%\u001b[39m \u001b[38;5;241m10\u001b[39m \u001b[38;5;241m==\u001b[39m \u001b[38;5;241m0\u001b[39m:\n\u001b[1;32m    300\u001b[0m     on_sales_cache_path \u001b[38;5;241m=\u001b[39m os\u001b[38;5;241m.\u001b[39mpath\u001b[38;5;241m.\u001b[39mjoin(cache_dir, \u001b[38;5;124mf\u001b[39m\u001b[38;5;124m'\u001b[39m\u001b[38;5;124mdf_on_sales_list_tract_\u001b[39m\u001b[38;5;132;01m{\u001b[39;00mindex\u001b[38;5;132;01m}\u001b[39;00m\u001b[38;5;124m_part_\u001b[39m\u001b[38;5;132;01m{\u001b[39;00mi\u001b[38;5;241m/\u001b[39m\u001b[38;5;241m/\u001b[39m\u001b[38;5;241m10\u001b[39m\u001b[38;5;132;01m}\u001b[39;00m\u001b[38;5;124m.csv\u001b[39m\u001b[38;5;124m'\u001b[39m)\n\u001b[0;32m--> 301\u001b[0m     pd\u001b[38;5;241m.\u001b[39mconcat(df_on_sales_list, ignore_index\u001b[38;5;241m=\u001b[39m\u001b[38;5;28;01mTrue\u001b[39;00m)\u001b[38;5;241m.\u001b[39mto_csv(on_sales_cache_path, index\u001b[38;5;241m=\u001b[39m\u001b[38;5;28;01mFalse\u001b[39;00m)\n\u001b[1;32m    302\u001b[0m     df_on_sales_list \u001b[38;5;241m=\u001b[39m []  \u001b[38;5;66;03m# Clear the list after caching\u001b[39;00m\n\u001b[1;32m    303\u001b[0m     sold_cache_path \u001b[38;5;241m=\u001b[39m os\u001b[38;5;241m.\u001b[39mpath\u001b[38;5;241m.\u001b[39mjoin(cache_dir, \u001b[38;5;124mf\u001b[39m\u001b[38;5;124m'\u001b[39m\u001b[38;5;124mdf_sold_list_tract_\u001b[39m\u001b[38;5;132;01m{\u001b[39;00mindex\u001b[38;5;132;01m}\u001b[39;00m\u001b[38;5;124m_part_\u001b[39m\u001b[38;5;132;01m{\u001b[39;00mi\u001b[38;5;241m/\u001b[39m\u001b[38;5;241m/\u001b[39m\u001b[38;5;241m10\u001b[39m\u001b[38;5;132;01m}\u001b[39;00m\u001b[38;5;124m.csv\u001b[39m\u001b[38;5;124m'\u001b[39m)\n",
      "File \u001b[0;32m~/anaconda3/lib/python3.11/site-packages/pandas/util/_decorators.py:331\u001b[0m, in \u001b[0;36mdeprecate_nonkeyword_arguments.<locals>.decorate.<locals>.wrapper\u001b[0;34m(*args, **kwargs)\u001b[0m\n\u001b[1;32m    325\u001b[0m \u001b[38;5;28;01mif\u001b[39;00m \u001b[38;5;28mlen\u001b[39m(args) \u001b[38;5;241m>\u001b[39m num_allow_args:\n\u001b[1;32m    326\u001b[0m     warnings\u001b[38;5;241m.\u001b[39mwarn(\n\u001b[1;32m    327\u001b[0m         msg\u001b[38;5;241m.\u001b[39mformat(arguments\u001b[38;5;241m=\u001b[39m_format_argument_list(allow_args)),\n\u001b[1;32m    328\u001b[0m         \u001b[38;5;167;01mFutureWarning\u001b[39;00m,\n\u001b[1;32m    329\u001b[0m         stacklevel\u001b[38;5;241m=\u001b[39mfind_stack_level(),\n\u001b[1;32m    330\u001b[0m     )\n\u001b[0;32m--> 331\u001b[0m \u001b[38;5;28;01mreturn\u001b[39;00m func(\u001b[38;5;241m*\u001b[39margs, \u001b[38;5;241m*\u001b[39m\u001b[38;5;241m*\u001b[39mkwargs)\n",
      "File \u001b[0;32m~/anaconda3/lib/python3.11/site-packages/pandas/core/reshape/concat.py:368\u001b[0m, in \u001b[0;36mconcat\u001b[0;34m(objs, axis, join, ignore_index, keys, levels, names, verify_integrity, sort, copy)\u001b[0m\n\u001b[1;32m    146\u001b[0m \u001b[38;5;129m@deprecate_nonkeyword_arguments\u001b[39m(version\u001b[38;5;241m=\u001b[39m\u001b[38;5;28;01mNone\u001b[39;00m, allowed_args\u001b[38;5;241m=\u001b[39m[\u001b[38;5;124m\"\u001b[39m\u001b[38;5;124mobjs\u001b[39m\u001b[38;5;124m\"\u001b[39m])\n\u001b[1;32m    147\u001b[0m \u001b[38;5;28;01mdef\u001b[39;00m \u001b[38;5;21mconcat\u001b[39m(\n\u001b[1;32m    148\u001b[0m     objs: Iterable[NDFrame] \u001b[38;5;241m|\u001b[39m Mapping[HashableT, NDFrame],\n\u001b[0;32m   (...)\u001b[0m\n\u001b[1;32m    157\u001b[0m     copy: \u001b[38;5;28mbool\u001b[39m \u001b[38;5;241m=\u001b[39m \u001b[38;5;28;01mTrue\u001b[39;00m,\n\u001b[1;32m    158\u001b[0m ) \u001b[38;5;241m-\u001b[39m\u001b[38;5;241m>\u001b[39m DataFrame \u001b[38;5;241m|\u001b[39m Series:\n\u001b[1;32m    159\u001b[0m \u001b[38;5;250m    \u001b[39m\u001b[38;5;124;03m\"\"\"\u001b[39;00m\n\u001b[1;32m    160\u001b[0m \u001b[38;5;124;03m    Concatenate pandas objects along a particular axis.\u001b[39;00m\n\u001b[1;32m    161\u001b[0m \n\u001b[0;32m   (...)\u001b[0m\n\u001b[1;32m    366\u001b[0m \u001b[38;5;124;03m    1   3   4\u001b[39;00m\n\u001b[1;32m    367\u001b[0m \u001b[38;5;124;03m    \"\"\"\u001b[39;00m\n\u001b[0;32m--> 368\u001b[0m     op \u001b[38;5;241m=\u001b[39m _Concatenator(\n\u001b[1;32m    369\u001b[0m         objs,\n\u001b[1;32m    370\u001b[0m         axis\u001b[38;5;241m=\u001b[39maxis,\n\u001b[1;32m    371\u001b[0m         ignore_index\u001b[38;5;241m=\u001b[39mignore_index,\n\u001b[1;32m    372\u001b[0m         join\u001b[38;5;241m=\u001b[39mjoin,\n\u001b[1;32m    373\u001b[0m         keys\u001b[38;5;241m=\u001b[39mkeys,\n\u001b[1;32m    374\u001b[0m         levels\u001b[38;5;241m=\u001b[39mlevels,\n\u001b[1;32m    375\u001b[0m         names\u001b[38;5;241m=\u001b[39mnames,\n\u001b[1;32m    376\u001b[0m         verify_integrity\u001b[38;5;241m=\u001b[39mverify_integrity,\n\u001b[1;32m    377\u001b[0m         copy\u001b[38;5;241m=\u001b[39mcopy,\n\u001b[1;32m    378\u001b[0m         sort\u001b[38;5;241m=\u001b[39msort,\n\u001b[1;32m    379\u001b[0m     )\n\u001b[1;32m    381\u001b[0m     \u001b[38;5;28;01mreturn\u001b[39;00m op\u001b[38;5;241m.\u001b[39mget_result()\n",
      "File \u001b[0;32m~/anaconda3/lib/python3.11/site-packages/pandas/core/reshape/concat.py:425\u001b[0m, in \u001b[0;36m_Concatenator.__init__\u001b[0;34m(self, objs, axis, join, keys, levels, names, ignore_index, verify_integrity, copy, sort)\u001b[0m\n\u001b[1;32m    422\u001b[0m     objs \u001b[38;5;241m=\u001b[39m \u001b[38;5;28mlist\u001b[39m(objs)\n\u001b[1;32m    424\u001b[0m \u001b[38;5;28;01mif\u001b[39;00m \u001b[38;5;28mlen\u001b[39m(objs) \u001b[38;5;241m==\u001b[39m \u001b[38;5;241m0\u001b[39m:\n\u001b[0;32m--> 425\u001b[0m     \u001b[38;5;28;01mraise\u001b[39;00m \u001b[38;5;167;01mValueError\u001b[39;00m(\u001b[38;5;124m\"\u001b[39m\u001b[38;5;124mNo objects to concatenate\u001b[39m\u001b[38;5;124m\"\u001b[39m)\n\u001b[1;32m    427\u001b[0m \u001b[38;5;28;01mif\u001b[39;00m keys \u001b[38;5;129;01mis\u001b[39;00m \u001b[38;5;28;01mNone\u001b[39;00m:\n\u001b[1;32m    428\u001b[0m     objs \u001b[38;5;241m=\u001b[39m \u001b[38;5;28mlist\u001b[39m(com\u001b[38;5;241m.\u001b[39mnot_none(\u001b[38;5;241m*\u001b[39mobjs))\n",
      "\u001b[0;31mValueError\u001b[0m: No objects to concatenate"
     ]
    }
   ],
   "source": [
    "# Set the step size for the grids\n",
    "step = 0.02\n",
    "\n",
    "# Run the main function for census tracts\n",
    "ef.main_for_census_tract(random_tract, step)"
   ]
  },
  {
   "cell_type": "code",
   "execution_count": null,
   "metadata": {},
   "outputs": [],
   "source": []
  }
 ],
 "metadata": {
  "kernelspec": {
   "display_name": "base",
   "language": "python",
   "name": "python3"
  },
  "language_info": {
   "codemirror_mode": {
    "name": "ipython",
    "version": 3
   },
   "file_extension": ".py",
   "mimetype": "text/x-python",
   "name": "python",
   "nbconvert_exporter": "python",
   "pygments_lexer": "ipython3",
   "version": "3.11.5"
  }
 },
 "nbformat": 4,
 "nbformat_minor": 2
}
